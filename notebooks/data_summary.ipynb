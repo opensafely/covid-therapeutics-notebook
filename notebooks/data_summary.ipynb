{
 "cells": [
  {
   "cell_type": "markdown",
   "metadata": {
    "lines_to_next_cell": 2
   },
   "source": [
    "# Quick analysis"
   ]
  },
  {
   "cell_type": "code",
   "execution_count": 9,
   "metadata": {
    "lines_to_next_cell": 2
   },
   "outputs": [
    {
     "name": "stdout",
     "output_type": "stream",
     "text": [
      "The autoreload extension is already loaded. To reload it, use:\n",
      "  %reload_ext autoreload\n"
     ]
    }
   ],
   "source": [
    "## Import libraries\n",
    "\n",
    "%load_ext autoreload\n",
    "%autoreload 2\n",
    "\n",
    "import os\n",
    "import pandas as pd\n",
    "import numpy as np\n",
    "from datetime import date, datetime\n",
    "from IPython.display import display, Markdown\n",
    "from utilities import redact_small_numbers\n"
   ]
  },
  {
   "cell_type": "code",
   "execution_count": 2,
   "metadata": {},
   "outputs": [
    {
     "data": {
      "text/markdown": [
       "Latest admission date: 2022-04-25"
      ],
      "text/plain": [
       "<IPython.core.display.Markdown object>"
      ]
     },
     "metadata": {},
     "output_type": "display_data"
    },
    {
     "data": {
      "text/markdown": [
       "Therapeutics: ['paxlovid', 'molnupiravir', 'sotrovimab', nan, 'remdesivir', 'casirivimab and imdevimab']"
      ],
      "text/plain": [
       "<IPython.core.display.Markdown object>"
      ]
     },
     "metadata": {},
     "output_type": "display_data"
    }
   ],
   "source": [
    "# import data\n",
    "\n",
    "df = pd.read_feather(\"../output/input.feather\")\n",
    "#df = pd.read_csv(\"../output/input.csv\")\n",
    "\n",
    "# for binary fields, replace zeros with null so that `count` can\n",
    "binary_fields = ['elective_short_stay', 'elective_or_op']\n",
    "for f in binary_fields:\n",
    "    df[f] = df[f].astype('int64').replace(0,np.nan)\n",
    "\n",
    "# treatment month\n",
    "df['outpatient_covid_therapeutic_month'] = df['outpatient_covid_therapeutic_date'].astype(str).str[:-3]\n",
    "df['inpatient_covid_therapeutic_month'] = df['inpatient_covid_therapeutic_date'].astype(str).str[:-3]\n",
    "\n",
    "# latest date of inpatient records - to use as cutoff for all data\n",
    "maxdate = df[\"any_admission_date\"].max()\n",
    "display(Markdown(f\"Latest admission date: {maxdate}\"))\n",
    "display(Markdown(f\"Therapeutics: {df['outpatient_covid_therapeutic_name'].unique().tolist()}\"))"
   ]
  },
  {
   "cell_type": "markdown",
   "metadata": {},
   "source": [
    "#### Summarise % MABs/AV treatments found in hospital records"
   ]
  },
  {
   "cell_type": "code",
   "execution_count": 12,
   "metadata": {},
   "outputs": [
    {
     "data": {
      "text/markdown": [
       "## Outpatient"
      ],
      "text/plain": [
       "<IPython.core.display.Markdown object>"
      ]
     },
     "metadata": {},
     "output_type": "display_data"
    },
    {
     "data": {
      "text/markdown": [
       "### MABs"
      ],
      "text/plain": [
       "<IPython.core.display.Markdown object>"
      ]
     },
     "metadata": {},
     "output_type": "display_data"
    },
    {
     "data": {
      "text/markdown": [
       "Out of **280** patients treated in *Outpatient* settings with *MABs*, **140 (50.0%)** had *elective or op* in SUS"
      ],
      "text/plain": [
       "<IPython.core.display.Markdown object>"
      ]
     },
     "metadata": {},
     "output_type": "display_data"
    },
    {
     "data": {
      "text/html": [
       "<div>\n",
       "<style scoped>\n",
       "    .dataframe tbody tr th:only-of-type {\n",
       "        vertical-align: middle;\n",
       "    }\n",
       "\n",
       "    .dataframe tbody tr th {\n",
       "        vertical-align: top;\n",
       "    }\n",
       "\n",
       "    .dataframe thead th {\n",
       "        text-align: right;\n",
       "    }\n",
       "</style>\n",
       "<table border=\"1\" class=\"dataframe\">\n",
       "  <thead>\n",
       "    <tr style=\"text-align: right;\">\n",
       "      <th></th>\n",
       "      <th>count</th>\n",
       "      <th>percent</th>\n",
       "    </tr>\n",
       "  </thead>\n",
       "  <tbody>\n",
       "    <tr>\n",
       "      <th>outpatient_covid_therapeutic</th>\n",
       "      <td>280</td>\n",
       "      <td>100.0</td>\n",
       "    </tr>\n",
       "    <tr>\n",
       "      <th>elective_or_op</th>\n",
       "      <td>140</td>\n",
       "      <td>50.0</td>\n",
       "    </tr>\n",
       "    <tr>\n",
       "      <th>elective_short_stay</th>\n",
       "      <td>205</td>\n",
       "      <td>73.2</td>\n",
       "    </tr>\n",
       "    <tr>\n",
       "      <th>daycase_admission</th>\n",
       "      <td>150</td>\n",
       "      <td>53.6</td>\n",
       "    </tr>\n",
       "    <tr>\n",
       "      <th>elective_x892</th>\n",
       "      <td>30</td>\n",
       "      <td>10.7</td>\n",
       "    </tr>\n",
       "    <tr>\n",
       "      <th>elective_x292</th>\n",
       "      <td>25</td>\n",
       "      <td>8.9</td>\n",
       "    </tr>\n",
       "    <tr>\n",
       "      <th>hospital_attendance</th>\n",
       "      <td>35</td>\n",
       "      <td>12.5</td>\n",
       "    </tr>\n",
       "  </tbody>\n",
       "</table>\n",
       "</div>"
      ],
      "text/plain": [
       "                              count  percent\n",
       "outpatient_covid_therapeutic    280    100.0\n",
       "elective_or_op                  140     50.0\n",
       "elective_short_stay             205     73.2\n",
       "daycase_admission               150     53.6\n",
       "elective_x892                    30     10.7\n",
       "elective_x292                    25      8.9\n",
       "hospital_attendance              35     12.5"
      ]
     },
     "metadata": {},
     "output_type": "display_data"
    },
    {
     "data": {
      "text/markdown": [
       "### Antivirals"
      ],
      "text/plain": [
       "<IPython.core.display.Markdown object>"
      ]
     },
     "metadata": {},
     "output_type": "display_data"
    },
    {
     "data": {
      "text/markdown": [
       "Out of **525** patients treated in *Outpatient* settings with *Antivirals*, **270 (51.4%)** had *elective or op* in SUS"
      ],
      "text/plain": [
       "<IPython.core.display.Markdown object>"
      ]
     },
     "metadata": {},
     "output_type": "display_data"
    },
    {
     "data": {
      "text/html": [
       "<div>\n",
       "<style scoped>\n",
       "    .dataframe tbody tr th:only-of-type {\n",
       "        vertical-align: middle;\n",
       "    }\n",
       "\n",
       "    .dataframe tbody tr th {\n",
       "        vertical-align: top;\n",
       "    }\n",
       "\n",
       "    .dataframe thead th {\n",
       "        text-align: right;\n",
       "    }\n",
       "</style>\n",
       "<table border=\"1\" class=\"dataframe\">\n",
       "  <thead>\n",
       "    <tr style=\"text-align: right;\">\n",
       "      <th></th>\n",
       "      <th>count</th>\n",
       "      <th>percent</th>\n",
       "    </tr>\n",
       "  </thead>\n",
       "  <tbody>\n",
       "    <tr>\n",
       "      <th>outpatient_covid_therapeutic</th>\n",
       "      <td>525</td>\n",
       "      <td>100.0</td>\n",
       "    </tr>\n",
       "    <tr>\n",
       "      <th>elective_or_op</th>\n",
       "      <td>270</td>\n",
       "      <td>51.4</td>\n",
       "    </tr>\n",
       "    <tr>\n",
       "      <th>elective_short_stay</th>\n",
       "      <td>360</td>\n",
       "      <td>68.6</td>\n",
       "    </tr>\n",
       "    <tr>\n",
       "      <th>daycase_admission</th>\n",
       "      <td>255</td>\n",
       "      <td>48.6</td>\n",
       "    </tr>\n",
       "    <tr>\n",
       "      <th>elective_x892</th>\n",
       "      <td>50</td>\n",
       "      <td>9.5</td>\n",
       "    </tr>\n",
       "    <tr>\n",
       "      <th>elective_x292</th>\n",
       "      <td>50</td>\n",
       "      <td>9.5</td>\n",
       "    </tr>\n",
       "    <tr>\n",
       "      <th>hospital_attendance</th>\n",
       "      <td>45</td>\n",
       "      <td>8.6</td>\n",
       "    </tr>\n",
       "  </tbody>\n",
       "</table>\n",
       "</div>"
      ],
      "text/plain": [
       "                              count  percent\n",
       "outpatient_covid_therapeutic    525    100.0\n",
       "elective_or_op                  270     51.4\n",
       "elective_short_stay             360     68.6\n",
       "daycase_admission               255     48.6\n",
       "elective_x892                    50      9.5\n",
       "elective_x292                    50      9.5\n",
       "hospital_attendance              45      8.6"
      ]
     },
     "metadata": {},
     "output_type": "display_data"
    },
    {
     "data": {
      "text/markdown": [
       "### Breakdown by region, age group, month and treatment (MABs only)"
      ],
      "text/plain": [
       "<IPython.core.display.Markdown object>"
      ]
     },
     "metadata": {},
     "output_type": "display_data"
    },
    {
     "data": {
      "text/markdown": [
       "The percent of MABs patients treated in *Outpatient* settings found in SUS varied by *region_covid_therapeutics* from **33.3%** to **62.5%**"
      ],
      "text/plain": [
       "<IPython.core.display.Markdown object>"
      ]
     },
     "metadata": {},
     "output_type": "display_data"
    },
    {
     "data": {
      "text/html": [
       "<div>\n",
       "<style scoped>\n",
       "    .dataframe tbody tr th:only-of-type {\n",
       "        vertical-align: middle;\n",
       "    }\n",
       "\n",
       "    .dataframe tbody tr th {\n",
       "        vertical-align: top;\n",
       "    }\n",
       "\n",
       "    .dataframe thead th {\n",
       "        text-align: right;\n",
       "    }\n",
       "</style>\n",
       "<table border=\"1\" class=\"dataframe\">\n",
       "  <thead>\n",
       "    <tr style=\"text-align: right;\">\n",
       "      <th></th>\n",
       "      <th>outpatient_covid_therapeutic</th>\n",
       "      <th>elective_or_op</th>\n",
       "      <th>percent</th>\n",
       "    </tr>\n",
       "    <tr>\n",
       "      <th>region_covid_therapeutics</th>\n",
       "      <th></th>\n",
       "      <th></th>\n",
       "      <th></th>\n",
       "    </tr>\n",
       "  </thead>\n",
       "  <tbody>\n",
       "    <tr>\n",
       "      <th>East</th>\n",
       "      <td>25</td>\n",
       "      <td>15</td>\n",
       "      <td>60.0</td>\n",
       "    </tr>\n",
       "    <tr>\n",
       "      <th>East Midlands</th>\n",
       "      <td>25</td>\n",
       "      <td>10</td>\n",
       "      <td>40.0</td>\n",
       "    </tr>\n",
       "    <tr>\n",
       "      <th>London</th>\n",
       "      <td>50</td>\n",
       "      <td>30</td>\n",
       "      <td>60.0</td>\n",
       "    </tr>\n",
       "    <tr>\n",
       "      <th>North East</th>\n",
       "      <td>30</td>\n",
       "      <td>10</td>\n",
       "      <td>33.3</td>\n",
       "    </tr>\n",
       "    <tr>\n",
       "      <th>North West</th>\n",
       "      <td>30</td>\n",
       "      <td>15</td>\n",
       "      <td>50.0</td>\n",
       "    </tr>\n",
       "    <tr>\n",
       "      <th>South East</th>\n",
       "      <td>30</td>\n",
       "      <td>15</td>\n",
       "      <td>50.0</td>\n",
       "    </tr>\n",
       "    <tr>\n",
       "      <th>South West</th>\n",
       "      <td>25</td>\n",
       "      <td>10</td>\n",
       "      <td>40.0</td>\n",
       "    </tr>\n",
       "    <tr>\n",
       "      <th>West Midlands</th>\n",
       "      <td>40</td>\n",
       "      <td>25</td>\n",
       "      <td>62.5</td>\n",
       "    </tr>\n",
       "    <tr>\n",
       "      <th>Yorkshire and The Humber</th>\n",
       "      <td>25</td>\n",
       "      <td>10</td>\n",
       "      <td>40.0</td>\n",
       "    </tr>\n",
       "  </tbody>\n",
       "</table>\n",
       "</div>"
      ],
      "text/plain": [
       "                           outpatient_covid_therapeutic  elective_or_op  \\\n",
       "region_covid_therapeutics                                                 \n",
       "East                                                 25              15   \n",
       "East Midlands                                        25              10   \n",
       "London                                               50              30   \n",
       "North East                                           30              10   \n",
       "North West                                           30              15   \n",
       "South East                                           30              15   \n",
       "South West                                           25              10   \n",
       "West Midlands                                        40              25   \n",
       "Yorkshire and The Humber                             25              10   \n",
       "\n",
       "                           percent  \n",
       "region_covid_therapeutics           \n",
       "East                          60.0  \n",
       "East Midlands                 40.0  \n",
       "London                        60.0  \n",
       "North East                    33.3  \n",
       "North West                    50.0  \n",
       "South East                    50.0  \n",
       "South West                    40.0  \n",
       "West Midlands                 62.5  \n",
       "Yorkshire and The Humber      40.0  "
      ]
     },
     "metadata": {},
     "output_type": "display_data"
    },
    {
     "data": {
      "text/markdown": [
       "The percent of MABs patients treated in *Outpatient* settings found in SUS varied by *age_group* from **33.3%** to **60.0%**"
      ],
      "text/plain": [
       "<IPython.core.display.Markdown object>"
      ]
     },
     "metadata": {},
     "output_type": "display_data"
    },
    {
     "data": {
      "text/html": [
       "<div>\n",
       "<style scoped>\n",
       "    .dataframe tbody tr th:only-of-type {\n",
       "        vertical-align: middle;\n",
       "    }\n",
       "\n",
       "    .dataframe tbody tr th {\n",
       "        vertical-align: top;\n",
       "    }\n",
       "\n",
       "    .dataframe thead th {\n",
       "        text-align: right;\n",
       "    }\n",
       "</style>\n",
       "<table border=\"1\" class=\"dataframe\">\n",
       "  <thead>\n",
       "    <tr style=\"text-align: right;\">\n",
       "      <th></th>\n",
       "      <th>outpatient_covid_therapeutic</th>\n",
       "      <th>elective_or_op</th>\n",
       "      <th>percent</th>\n",
       "    </tr>\n",
       "    <tr>\n",
       "      <th>age_group</th>\n",
       "      <th></th>\n",
       "      <th></th>\n",
       "      <th></th>\n",
       "    </tr>\n",
       "  </thead>\n",
       "  <tbody>\n",
       "    <tr>\n",
       "      <th>12-24</th>\n",
       "      <td>30</td>\n",
       "      <td>15</td>\n",
       "      <td>50.0</td>\n",
       "    </tr>\n",
       "    <tr>\n",
       "      <th>25-34</th>\n",
       "      <td>20</td>\n",
       "      <td>10</td>\n",
       "      <td>50.0</td>\n",
       "    </tr>\n",
       "    <tr>\n",
       "      <th>35-44</th>\n",
       "      <td>55</td>\n",
       "      <td>25</td>\n",
       "      <td>45.5</td>\n",
       "    </tr>\n",
       "    <tr>\n",
       "      <th>45-54</th>\n",
       "      <td>50</td>\n",
       "      <td>20</td>\n",
       "      <td>40.0</td>\n",
       "    </tr>\n",
       "    <tr>\n",
       "      <th>55-64</th>\n",
       "      <td>30</td>\n",
       "      <td>10</td>\n",
       "      <td>33.3</td>\n",
       "    </tr>\n",
       "    <tr>\n",
       "      <th>65-74</th>\n",
       "      <td>25</td>\n",
       "      <td>15</td>\n",
       "      <td>60.0</td>\n",
       "    </tr>\n",
       "    <tr>\n",
       "      <th>75+</th>\n",
       "      <td>35</td>\n",
       "      <td>20</td>\n",
       "      <td>57.1</td>\n",
       "    </tr>\n",
       "    <tr>\n",
       "      <th>missing</th>\n",
       "      <td>35</td>\n",
       "      <td>20</td>\n",
       "      <td>57.1</td>\n",
       "    </tr>\n",
       "  </tbody>\n",
       "</table>\n",
       "</div>"
      ],
      "text/plain": [
       "           outpatient_covid_therapeutic  elective_or_op  percent\n",
       "age_group                                                       \n",
       "12-24                                30              15     50.0\n",
       "25-34                                20              10     50.0\n",
       "35-44                                55              25     45.5\n",
       "45-54                                50              20     40.0\n",
       "55-64                                30              10     33.3\n",
       "65-74                                25              15     60.0\n",
       "75+                                  35              20     57.1\n",
       "missing                              35              20     57.1"
      ]
     },
     "metadata": {},
     "output_type": "display_data"
    },
    {
     "data": {
      "text/markdown": [
       "The percent of MABs patients treated in *Outpatient* settings found in SUS varied by *treatment_month* from **46.2%** to **60.0%**"
      ],
      "text/plain": [
       "<IPython.core.display.Markdown object>"
      ]
     },
     "metadata": {},
     "output_type": "display_data"
    },
    {
     "data": {
      "text/html": [
       "<div>\n",
       "<style scoped>\n",
       "    .dataframe tbody tr th:only-of-type {\n",
       "        vertical-align: middle;\n",
       "    }\n",
       "\n",
       "    .dataframe tbody tr th {\n",
       "        vertical-align: top;\n",
       "    }\n",
       "\n",
       "    .dataframe thead th {\n",
       "        text-align: right;\n",
       "    }\n",
       "</style>\n",
       "<table border=\"1\" class=\"dataframe\">\n",
       "  <thead>\n",
       "    <tr style=\"text-align: right;\">\n",
       "      <th></th>\n",
       "      <th>outpatient_covid_therapeutic</th>\n",
       "      <th>elective_or_op</th>\n",
       "      <th>percent</th>\n",
       "    </tr>\n",
       "    <tr>\n",
       "      <th>outpatient_covid_therapeutic_month</th>\n",
       "      <th></th>\n",
       "      <th></th>\n",
       "      <th></th>\n",
       "    </tr>\n",
       "  </thead>\n",
       "  <tbody>\n",
       "    <tr>\n",
       "      <th>2021-12</th>\n",
       "      <td>40</td>\n",
       "      <td>20</td>\n",
       "      <td>50.0</td>\n",
       "    </tr>\n",
       "    <tr>\n",
       "      <th>2022-01</th>\n",
       "      <td>65</td>\n",
       "      <td>30</td>\n",
       "      <td>46.2</td>\n",
       "    </tr>\n",
       "    <tr>\n",
       "      <th>2022-02</th>\n",
       "      <td>50</td>\n",
       "      <td>30</td>\n",
       "      <td>60.0</td>\n",
       "    </tr>\n",
       "    <tr>\n",
       "      <th>2022-03</th>\n",
       "      <td>80</td>\n",
       "      <td>45</td>\n",
       "      <td>56.2</td>\n",
       "    </tr>\n",
       "    <tr>\n",
       "      <th>2022-04</th>\n",
       "      <td>40</td>\n",
       "      <td>20</td>\n",
       "      <td>50.0</td>\n",
       "    </tr>\n",
       "  </tbody>\n",
       "</table>\n",
       "</div>"
      ],
      "text/plain": [
       "                                    outpatient_covid_therapeutic  \\\n",
       "outpatient_covid_therapeutic_month                                 \n",
       "2021-12                                                       40   \n",
       "2022-01                                                       65   \n",
       "2022-02                                                       50   \n",
       "2022-03                                                       80   \n",
       "2022-04                                                       40   \n",
       "\n",
       "                                    elective_or_op  percent  \n",
       "outpatient_covid_therapeutic_month                           \n",
       "2021-12                                         20     50.0  \n",
       "2022-01                                         30     46.2  \n",
       "2022-02                                         30     60.0  \n",
       "2022-03                                         45     56.2  \n",
       "2022-04                                         20     50.0  "
      ]
     },
     "metadata": {},
     "output_type": "display_data"
    },
    {
     "data": {
      "text/markdown": [
       "The percent of MABs patients treated in *Outpatient* settings found in SUS varied by *outpatient_covid_therapeutic_name* from **43.8%** to **52.5%**"
      ],
      "text/plain": [
       "<IPython.core.display.Markdown object>"
      ]
     },
     "metadata": {},
     "output_type": "display_data"
    },
    {
     "data": {
      "text/html": [
       "<div>\n",
       "<style scoped>\n",
       "    .dataframe tbody tr th:only-of-type {\n",
       "        vertical-align: middle;\n",
       "    }\n",
       "\n",
       "    .dataframe tbody tr th {\n",
       "        vertical-align: top;\n",
       "    }\n",
       "\n",
       "    .dataframe thead th {\n",
       "        text-align: right;\n",
       "    }\n",
       "</style>\n",
       "<table border=\"1\" class=\"dataframe\">\n",
       "  <thead>\n",
       "    <tr style=\"text-align: right;\">\n",
       "      <th></th>\n",
       "      <th>outpatient_covid_therapeutic</th>\n",
       "      <th>elective_or_op</th>\n",
       "      <th>percent</th>\n",
       "    </tr>\n",
       "    <tr>\n",
       "      <th>outpatient_covid_therapeutic_name</th>\n",
       "      <th></th>\n",
       "      <th></th>\n",
       "      <th></th>\n",
       "    </tr>\n",
       "  </thead>\n",
       "  <tbody>\n",
       "    <tr>\n",
       "      <th>casirivimab and imdevimab</th>\n",
       "      <td>80</td>\n",
       "      <td>35</td>\n",
       "      <td>43.8</td>\n",
       "    </tr>\n",
       "    <tr>\n",
       "      <th>sotrovimab</th>\n",
       "      <td>200</td>\n",
       "      <td>105</td>\n",
       "      <td>52.5</td>\n",
       "    </tr>\n",
       "  </tbody>\n",
       "</table>\n",
       "</div>"
      ],
      "text/plain": [
       "                                   outpatient_covid_therapeutic  \\\n",
       "outpatient_covid_therapeutic_name                                 \n",
       "casirivimab and imdevimab                                    80   \n",
       "sotrovimab                                                  200   \n",
       "\n",
       "                                   elective_or_op  percent  \n",
       "outpatient_covid_therapeutic_name                           \n",
       "casirivimab and imdevimab                      35     43.8  \n",
       "sotrovimab                                    105     52.5  "
      ]
     },
     "metadata": {},
     "output_type": "display_data"
    },
    {
     "data": {
      "text/markdown": [
       "The percent of MABs patients treated in *Outpatient* settings found in SUS varied by *high_risk_cohort_covid_therapeutics* from **40.0%** to **60.0%**"
      ],
      "text/plain": [
       "<IPython.core.display.Markdown object>"
      ]
     },
     "metadata": {},
     "output_type": "display_data"
    },
    {
     "data": {
      "text/html": [
       "<div>\n",
       "<style scoped>\n",
       "    .dataframe tbody tr th:only-of-type {\n",
       "        vertical-align: middle;\n",
       "    }\n",
       "\n",
       "    .dataframe tbody tr th {\n",
       "        vertical-align: top;\n",
       "    }\n",
       "\n",
       "    .dataframe thead th {\n",
       "        text-align: right;\n",
       "    }\n",
       "</style>\n",
       "<table border=\"1\" class=\"dataframe\">\n",
       "  <thead>\n",
       "    <tr style=\"text-align: right;\">\n",
       "      <th></th>\n",
       "      <th>outpatient_covid_therapeutic</th>\n",
       "      <th>elective_or_op</th>\n",
       "      <th>percent</th>\n",
       "    </tr>\n",
       "    <tr>\n",
       "      <th>high_risk_cohort_covid_therapeutics</th>\n",
       "      <th></th>\n",
       "      <th></th>\n",
       "      <th></th>\n",
       "    </tr>\n",
       "  </thead>\n",
       "  <tbody>\n",
       "    <tr>\n",
       "      <th>Downs syndrome</th>\n",
       "      <td>35</td>\n",
       "      <td>20.0</td>\n",
       "      <td>57.1</td>\n",
       "    </tr>\n",
       "    <tr>\n",
       "      <th>HIV or AIDS</th>\n",
       "      <td>10</td>\n",
       "      <td>NaN</td>\n",
       "      <td>NaN</td>\n",
       "    </tr>\n",
       "    <tr>\n",
       "      <th>IMID</th>\n",
       "      <td>30</td>\n",
       "      <td>15.0</td>\n",
       "      <td>50.0</td>\n",
       "    </tr>\n",
       "    <tr>\n",
       "      <th>IMID,solid cancer</th>\n",
       "      <td>20</td>\n",
       "      <td>10.0</td>\n",
       "      <td>50.0</td>\n",
       "    </tr>\n",
       "    <tr>\n",
       "      <th>haematological diseases,stem cell transplant recipients</th>\n",
       "      <td>30</td>\n",
       "      <td>15.0</td>\n",
       "      <td>50.0</td>\n",
       "    </tr>\n",
       "    <tr>\n",
       "      <th>haematological malignancies</th>\n",
       "      <td>10</td>\n",
       "      <td>NaN</td>\n",
       "      <td>NaN</td>\n",
       "    </tr>\n",
       "    <tr>\n",
       "      <th>liver disease</th>\n",
       "      <td>15</td>\n",
       "      <td>NaN</td>\n",
       "      <td>NaN</td>\n",
       "    </tr>\n",
       "    <tr>\n",
       "      <th>primary immune deficiencies</th>\n",
       "      <td>25</td>\n",
       "      <td>15.0</td>\n",
       "      <td>60.0</td>\n",
       "    </tr>\n",
       "    <tr>\n",
       "      <th>renal disease,sickle cell disease</th>\n",
       "      <td>25</td>\n",
       "      <td>10.0</td>\n",
       "      <td>40.0</td>\n",
       "    </tr>\n",
       "    <tr>\n",
       "      <th>sickle cell disease</th>\n",
       "      <td>25</td>\n",
       "      <td>10.0</td>\n",
       "      <td>40.0</td>\n",
       "    </tr>\n",
       "    <tr>\n",
       "      <th>solid cancer</th>\n",
       "      <td>35</td>\n",
       "      <td>15.0</td>\n",
       "      <td>42.9</td>\n",
       "    </tr>\n",
       "  </tbody>\n",
       "</table>\n",
       "</div>"
      ],
      "text/plain": [
       "                                                    outpatient_covid_therapeutic  \\\n",
       "high_risk_cohort_covid_therapeutics                                                \n",
       "Downs syndrome                                                                35   \n",
       "HIV or AIDS                                                                   10   \n",
       "IMID                                                                          30   \n",
       "IMID,solid cancer                                                             20   \n",
       "haematological diseases,stem cell transplant re...                            30   \n",
       "haematological malignancies                                                   10   \n",
       "liver disease                                                                 15   \n",
       "primary immune deficiencies                                                   25   \n",
       "renal disease,sickle cell disease                                             25   \n",
       "sickle cell disease                                                           25   \n",
       "solid cancer                                                                  35   \n",
       "\n",
       "                                                    elective_or_op  percent  \n",
       "high_risk_cohort_covid_therapeutics                                          \n",
       "Downs syndrome                                                20.0     57.1  \n",
       "HIV or AIDS                                                    NaN      NaN  \n",
       "IMID                                                          15.0     50.0  \n",
       "IMID,solid cancer                                             10.0     50.0  \n",
       "haematological diseases,stem cell transplant re...            15.0     50.0  \n",
       "haematological malignancies                                    NaN      NaN  \n",
       "liver disease                                                  NaN      NaN  \n",
       "primary immune deficiencies                                   15.0     60.0  \n",
       "renal disease,sickle cell disease                             10.0     40.0  \n",
       "sickle cell disease                                           10.0     40.0  \n",
       "solid cancer                                                  15.0     42.9  "
      ]
     },
     "metadata": {},
     "output_type": "display_data"
    },
    {
     "data": {
      "text/markdown": [
       "## Inpatient"
      ],
      "text/plain": [
       "<IPython.core.display.Markdown object>"
      ]
     },
     "metadata": {},
     "output_type": "display_data"
    },
    {
     "data": {
      "text/markdown": [
       "Note: for inpatients, recent spells may not yet have completed so some data may be missing"
      ],
      "text/plain": [
       "<IPython.core.display.Markdown object>"
      ]
     },
     "metadata": {},
     "output_type": "display_data"
    },
    {
     "data": {
      "text/markdown": [
       "### MABs"
      ],
      "text/plain": [
       "<IPython.core.display.Markdown object>"
      ]
     },
     "metadata": {},
     "output_type": "display_data"
    },
    {
     "data": {
      "text/markdown": [
       "Out of **280** patients treated in *Inpatient* settings with *MABs*, **100 (35.7%)** had *any admission* in SUS"
      ],
      "text/plain": [
       "<IPython.core.display.Markdown object>"
      ]
     },
     "metadata": {},
     "output_type": "display_data"
    },
    {
     "data": {
      "text/html": [
       "<div>\n",
       "<style scoped>\n",
       "    .dataframe tbody tr th:only-of-type {\n",
       "        vertical-align: middle;\n",
       "    }\n",
       "\n",
       "    .dataframe tbody tr th {\n",
       "        vertical-align: top;\n",
       "    }\n",
       "\n",
       "    .dataframe thead th {\n",
       "        text-align: right;\n",
       "    }\n",
       "</style>\n",
       "<table border=\"1\" class=\"dataframe\">\n",
       "  <thead>\n",
       "    <tr style=\"text-align: right;\">\n",
       "      <th></th>\n",
       "      <th>count</th>\n",
       "      <th>percent</th>\n",
       "    </tr>\n",
       "  </thead>\n",
       "  <tbody>\n",
       "    <tr>\n",
       "      <th>inpatient_covid_therapeutic</th>\n",
       "      <td>280</td>\n",
       "      <td>100.0</td>\n",
       "    </tr>\n",
       "    <tr>\n",
       "      <th>any_admission</th>\n",
       "      <td>100</td>\n",
       "      <td>35.7</td>\n",
       "    </tr>\n",
       "    <tr>\n",
       "      <th>any_admission_x892</th>\n",
       "      <td>65</td>\n",
       "      <td>23.2</td>\n",
       "    </tr>\n",
       "    <tr>\n",
       "      <th>any_admission_x292</th>\n",
       "      <td>80</td>\n",
       "      <td>28.6</td>\n",
       "    </tr>\n",
       "  </tbody>\n",
       "</table>\n",
       "</div>"
      ],
      "text/plain": [
       "                             count  percent\n",
       "inpatient_covid_therapeutic    280    100.0\n",
       "any_admission                  100     35.7\n",
       "any_admission_x892              65     23.2\n",
       "any_admission_x292              80     28.6"
      ]
     },
     "metadata": {},
     "output_type": "display_data"
    },
    {
     "data": {
      "text/markdown": [
       "### Antivirals"
      ],
      "text/plain": [
       "<IPython.core.display.Markdown object>"
      ]
     },
     "metadata": {},
     "output_type": "display_data"
    },
    {
     "data": {
      "text/markdown": [
       "Out of **520** patients treated in *Inpatient* settings with *Antivirals*, **185 (35.6%)** had *any admission* in SUS"
      ],
      "text/plain": [
       "<IPython.core.display.Markdown object>"
      ]
     },
     "metadata": {},
     "output_type": "display_data"
    },
    {
     "data": {
      "text/html": [
       "<div>\n",
       "<style scoped>\n",
       "    .dataframe tbody tr th:only-of-type {\n",
       "        vertical-align: middle;\n",
       "    }\n",
       "\n",
       "    .dataframe tbody tr th {\n",
       "        vertical-align: top;\n",
       "    }\n",
       "\n",
       "    .dataframe thead th {\n",
       "        text-align: right;\n",
       "    }\n",
       "</style>\n",
       "<table border=\"1\" class=\"dataframe\">\n",
       "  <thead>\n",
       "    <tr style=\"text-align: right;\">\n",
       "      <th></th>\n",
       "      <th>count</th>\n",
       "      <th>percent</th>\n",
       "    </tr>\n",
       "  </thead>\n",
       "  <tbody>\n",
       "    <tr>\n",
       "      <th>inpatient_covid_therapeutic</th>\n",
       "      <td>520</td>\n",
       "      <td>100.0</td>\n",
       "    </tr>\n",
       "    <tr>\n",
       "      <th>any_admission</th>\n",
       "      <td>185</td>\n",
       "      <td>35.6</td>\n",
       "    </tr>\n",
       "    <tr>\n",
       "      <th>any_admission_x892</th>\n",
       "      <td>135</td>\n",
       "      <td>26.0</td>\n",
       "    </tr>\n",
       "    <tr>\n",
       "      <th>any_admission_x292</th>\n",
       "      <td>125</td>\n",
       "      <td>24.0</td>\n",
       "    </tr>\n",
       "  </tbody>\n",
       "</table>\n",
       "</div>"
      ],
      "text/plain": [
       "                             count  percent\n",
       "inpatient_covid_therapeutic    520    100.0\n",
       "any_admission                  185     35.6\n",
       "any_admission_x892             135     26.0\n",
       "any_admission_x292             125     24.0"
      ]
     },
     "metadata": {},
     "output_type": "display_data"
    },
    {
     "data": {
      "text/markdown": [
       "### Breakdown by region, age group, month and treatment (MABs only)"
      ],
      "text/plain": [
       "<IPython.core.display.Markdown object>"
      ]
     },
     "metadata": {},
     "output_type": "display_data"
    },
    {
     "data": {
      "text/markdown": [
       "The percent of MABs patients treated in *Inpatient* settings found in SUS varied by *region_covid_therapeutics* from **33.3%** to **50.0%**"
      ],
      "text/plain": [
       "<IPython.core.display.Markdown object>"
      ]
     },
     "metadata": {},
     "output_type": "display_data"
    },
    {
     "data": {
      "text/html": [
       "<div>\n",
       "<style scoped>\n",
       "    .dataframe tbody tr th:only-of-type {\n",
       "        vertical-align: middle;\n",
       "    }\n",
       "\n",
       "    .dataframe tbody tr th {\n",
       "        vertical-align: top;\n",
       "    }\n",
       "\n",
       "    .dataframe thead th {\n",
       "        text-align: right;\n",
       "    }\n",
       "</style>\n",
       "<table border=\"1\" class=\"dataframe\">\n",
       "  <thead>\n",
       "    <tr style=\"text-align: right;\">\n",
       "      <th></th>\n",
       "      <th>inpatient_covid_therapeutic</th>\n",
       "      <th>any_admission</th>\n",
       "      <th>percent</th>\n",
       "    </tr>\n",
       "    <tr>\n",
       "      <th>region_covid_therapeutics</th>\n",
       "      <th></th>\n",
       "      <th></th>\n",
       "      <th></th>\n",
       "    </tr>\n",
       "  </thead>\n",
       "  <tbody>\n",
       "    <tr>\n",
       "      <th>East</th>\n",
       "      <td>30</td>\n",
       "      <td>NaN</td>\n",
       "      <td>NaN</td>\n",
       "    </tr>\n",
       "    <tr>\n",
       "      <th>East Midlands</th>\n",
       "      <td>30</td>\n",
       "      <td>10.0</td>\n",
       "      <td>33.3</td>\n",
       "    </tr>\n",
       "    <tr>\n",
       "      <th>London</th>\n",
       "      <td>55</td>\n",
       "      <td>20.0</td>\n",
       "      <td>36.4</td>\n",
       "    </tr>\n",
       "    <tr>\n",
       "      <th>North East</th>\n",
       "      <td>30</td>\n",
       "      <td>10.0</td>\n",
       "      <td>33.3</td>\n",
       "    </tr>\n",
       "    <tr>\n",
       "      <th>North West</th>\n",
       "      <td>30</td>\n",
       "      <td>10.0</td>\n",
       "      <td>33.3</td>\n",
       "    </tr>\n",
       "    <tr>\n",
       "      <th>South East</th>\n",
       "      <td>40</td>\n",
       "      <td>15.0</td>\n",
       "      <td>37.5</td>\n",
       "    </tr>\n",
       "    <tr>\n",
       "      <th>South West</th>\n",
       "      <td>25</td>\n",
       "      <td>10.0</td>\n",
       "      <td>40.0</td>\n",
       "    </tr>\n",
       "    <tr>\n",
       "      <th>West Midlands</th>\n",
       "      <td>25</td>\n",
       "      <td>10.0</td>\n",
       "      <td>40.0</td>\n",
       "    </tr>\n",
       "    <tr>\n",
       "      <th>Yorkshire and The Humber</th>\n",
       "      <td>20</td>\n",
       "      <td>10.0</td>\n",
       "      <td>50.0</td>\n",
       "    </tr>\n",
       "  </tbody>\n",
       "</table>\n",
       "</div>"
      ],
      "text/plain": [
       "                           inpatient_covid_therapeutic  any_admission  percent\n",
       "region_covid_therapeutics                                                     \n",
       "East                                                30            NaN      NaN\n",
       "East Midlands                                       30           10.0     33.3\n",
       "London                                              55           20.0     36.4\n",
       "North East                                          30           10.0     33.3\n",
       "North West                                          30           10.0     33.3\n",
       "South East                                          40           15.0     37.5\n",
       "South West                                          25           10.0     40.0\n",
       "West Midlands                                       25           10.0     40.0\n",
       "Yorkshire and The Humber                            20           10.0     50.0"
      ]
     },
     "metadata": {},
     "output_type": "display_data"
    },
    {
     "data": {
      "text/markdown": [
       "The percent of MABs patients treated in *Inpatient* settings found in SUS varied by *age_group* from **27.3%** to **50.0%**"
      ],
      "text/plain": [
       "<IPython.core.display.Markdown object>"
      ]
     },
     "metadata": {},
     "output_type": "display_data"
    },
    {
     "data": {
      "text/html": [
       "<div>\n",
       "<style scoped>\n",
       "    .dataframe tbody tr th:only-of-type {\n",
       "        vertical-align: middle;\n",
       "    }\n",
       "\n",
       "    .dataframe tbody tr th {\n",
       "        vertical-align: top;\n",
       "    }\n",
       "\n",
       "    .dataframe thead th {\n",
       "        text-align: right;\n",
       "    }\n",
       "</style>\n",
       "<table border=\"1\" class=\"dataframe\">\n",
       "  <thead>\n",
       "    <tr style=\"text-align: right;\">\n",
       "      <th></th>\n",
       "      <th>inpatient_covid_therapeutic</th>\n",
       "      <th>any_admission</th>\n",
       "      <th>percent</th>\n",
       "    </tr>\n",
       "    <tr>\n",
       "      <th>age_group</th>\n",
       "      <th></th>\n",
       "      <th></th>\n",
       "      <th></th>\n",
       "    </tr>\n",
       "  </thead>\n",
       "  <tbody>\n",
       "    <tr>\n",
       "      <th>12-24</th>\n",
       "      <td>35</td>\n",
       "      <td>15.0</td>\n",
       "      <td>42.9</td>\n",
       "    </tr>\n",
       "    <tr>\n",
       "      <th>25-34</th>\n",
       "      <td>20</td>\n",
       "      <td>NaN</td>\n",
       "      <td>NaN</td>\n",
       "    </tr>\n",
       "    <tr>\n",
       "      <th>35-44</th>\n",
       "      <td>55</td>\n",
       "      <td>15.0</td>\n",
       "      <td>27.3</td>\n",
       "    </tr>\n",
       "    <tr>\n",
       "      <th>45-54</th>\n",
       "      <td>45</td>\n",
       "      <td>15.0</td>\n",
       "      <td>33.3</td>\n",
       "    </tr>\n",
       "    <tr>\n",
       "      <th>55-64</th>\n",
       "      <td>35</td>\n",
       "      <td>10.0</td>\n",
       "      <td>28.6</td>\n",
       "    </tr>\n",
       "    <tr>\n",
       "      <th>65-74</th>\n",
       "      <td>35</td>\n",
       "      <td>15.0</td>\n",
       "      <td>42.9</td>\n",
       "    </tr>\n",
       "    <tr>\n",
       "      <th>75+</th>\n",
       "      <td>30</td>\n",
       "      <td>10.0</td>\n",
       "      <td>33.3</td>\n",
       "    </tr>\n",
       "    <tr>\n",
       "      <th>missing</th>\n",
       "      <td>30</td>\n",
       "      <td>15.0</td>\n",
       "      <td>50.0</td>\n",
       "    </tr>\n",
       "  </tbody>\n",
       "</table>\n",
       "</div>"
      ],
      "text/plain": [
       "           inpatient_covid_therapeutic  any_admission  percent\n",
       "age_group                                                     \n",
       "12-24                               35           15.0     42.9\n",
       "25-34                               20            NaN      NaN\n",
       "35-44                               55           15.0     27.3\n",
       "45-54                               45           15.0     33.3\n",
       "55-64                               35           10.0     28.6\n",
       "65-74                               35           15.0     42.9\n",
       "75+                                 30           10.0     33.3\n",
       "missing                             30           15.0     50.0"
      ]
     },
     "metadata": {},
     "output_type": "display_data"
    },
    {
     "data": {
      "text/markdown": [
       "The percent of MABs patients treated in *Inpatient* settings found in SUS varied by *treatment_month* from **18.2%** to **62.5%**"
      ],
      "text/plain": [
       "<IPython.core.display.Markdown object>"
      ]
     },
     "metadata": {},
     "output_type": "display_data"
    },
    {
     "data": {
      "text/html": [
       "<div>\n",
       "<style scoped>\n",
       "    .dataframe tbody tr th:only-of-type {\n",
       "        vertical-align: middle;\n",
       "    }\n",
       "\n",
       "    .dataframe tbody tr th {\n",
       "        vertical-align: top;\n",
       "    }\n",
       "\n",
       "    .dataframe thead th {\n",
       "        text-align: right;\n",
       "    }\n",
       "</style>\n",
       "<table border=\"1\" class=\"dataframe\">\n",
       "  <thead>\n",
       "    <tr style=\"text-align: right;\">\n",
       "      <th></th>\n",
       "      <th>inpatient_covid_therapeutic</th>\n",
       "      <th>any_admission</th>\n",
       "      <th>percent</th>\n",
       "    </tr>\n",
       "    <tr>\n",
       "      <th>inpatient_covid_therapeutic_month</th>\n",
       "      <th></th>\n",
       "      <th></th>\n",
       "      <th></th>\n",
       "    </tr>\n",
       "  </thead>\n",
       "  <tbody>\n",
       "    <tr>\n",
       "      <th>2021-12</th>\n",
       "      <td>40</td>\n",
       "      <td>25</td>\n",
       "      <td>62.5</td>\n",
       "    </tr>\n",
       "    <tr>\n",
       "      <th>2022-01</th>\n",
       "      <td>65</td>\n",
       "      <td>20</td>\n",
       "      <td>30.8</td>\n",
       "    </tr>\n",
       "    <tr>\n",
       "      <th>2022-02</th>\n",
       "      <td>65</td>\n",
       "      <td>20</td>\n",
       "      <td>30.8</td>\n",
       "    </tr>\n",
       "    <tr>\n",
       "      <th>2022-03</th>\n",
       "      <td>60</td>\n",
       "      <td>25</td>\n",
       "      <td>41.7</td>\n",
       "    </tr>\n",
       "    <tr>\n",
       "      <th>2022-04</th>\n",
       "      <td>55</td>\n",
       "      <td>10</td>\n",
       "      <td>18.2</td>\n",
       "    </tr>\n",
       "  </tbody>\n",
       "</table>\n",
       "</div>"
      ],
      "text/plain": [
       "                                   inpatient_covid_therapeutic  any_admission  \\\n",
       "inpatient_covid_therapeutic_month                                               \n",
       "2021-12                                                     40             25   \n",
       "2022-01                                                     65             20   \n",
       "2022-02                                                     65             20   \n",
       "2022-03                                                     60             25   \n",
       "2022-04                                                     55             10   \n",
       "\n",
       "                                   percent  \n",
       "inpatient_covid_therapeutic_month           \n",
       "2021-12                               62.5  \n",
       "2022-01                               30.8  \n",
       "2022-02                               30.8  \n",
       "2022-03                               41.7  \n",
       "2022-04                               18.2  "
      ]
     },
     "metadata": {},
     "output_type": "display_data"
    },
    {
     "data": {
      "text/markdown": [
       "The percent of MABs patients treated in *Inpatient* settings found in SUS varied by *inpatient_covid_therapeutic_name* from **25.0%** to **36.8%**"
      ],
      "text/plain": [
       "<IPython.core.display.Markdown object>"
      ]
     },
     "metadata": {},
     "output_type": "display_data"
    },
    {
     "data": {
      "text/html": [
       "<div>\n",
       "<style scoped>\n",
       "    .dataframe tbody tr th:only-of-type {\n",
       "        vertical-align: middle;\n",
       "    }\n",
       "\n",
       "    .dataframe tbody tr th {\n",
       "        vertical-align: top;\n",
       "    }\n",
       "\n",
       "    .dataframe thead th {\n",
       "        text-align: right;\n",
       "    }\n",
       "</style>\n",
       "<table border=\"1\" class=\"dataframe\">\n",
       "  <thead>\n",
       "    <tr style=\"text-align: right;\">\n",
       "      <th></th>\n",
       "      <th>inpatient_covid_therapeutic</th>\n",
       "      <th>any_admission</th>\n",
       "      <th>percent</th>\n",
       "    </tr>\n",
       "    <tr>\n",
       "      <th>inpatient_covid_therapeutic_name</th>\n",
       "      <th></th>\n",
       "      <th></th>\n",
       "      <th></th>\n",
       "    </tr>\n",
       "  </thead>\n",
       "  <tbody>\n",
       "    <tr>\n",
       "      <th>casirivimab and imdevimab</th>\n",
       "      <td>40</td>\n",
       "      <td>10</td>\n",
       "      <td>25.0</td>\n",
       "    </tr>\n",
       "    <tr>\n",
       "      <th>sarilumab</th>\n",
       "      <td>70</td>\n",
       "      <td>25</td>\n",
       "      <td>35.7</td>\n",
       "    </tr>\n",
       "    <tr>\n",
       "      <th>sotrovimab</th>\n",
       "      <td>95</td>\n",
       "      <td>35</td>\n",
       "      <td>36.8</td>\n",
       "    </tr>\n",
       "    <tr>\n",
       "      <th>tocilizumab</th>\n",
       "      <td>80</td>\n",
       "      <td>25</td>\n",
       "      <td>31.2</td>\n",
       "    </tr>\n",
       "  </tbody>\n",
       "</table>\n",
       "</div>"
      ],
      "text/plain": [
       "                                  inpatient_covid_therapeutic  any_admission  \\\n",
       "inpatient_covid_therapeutic_name                                               \n",
       "casirivimab and imdevimab                                  40             10   \n",
       "sarilumab                                                  70             25   \n",
       "sotrovimab                                                 95             35   \n",
       "tocilizumab                                                80             25   \n",
       "\n",
       "                                  percent  \n",
       "inpatient_covid_therapeutic_name           \n",
       "casirivimab and imdevimab            25.0  \n",
       "sarilumab                            35.7  \n",
       "sotrovimab                           36.8  \n",
       "tocilizumab                          31.2  "
      ]
     },
     "metadata": {},
     "output_type": "display_data"
    },
    {
     "data": {
      "text/markdown": [
       "The percent of MABs patients treated in *Inpatient* settings found in SUS varied by *high_risk_cohort_covid_therapeutics* from **28.6%** to **66.7%**"
      ],
      "text/plain": [
       "<IPython.core.display.Markdown object>"
      ]
     },
     "metadata": {},
     "output_type": "display_data"
    },
    {
     "data": {
      "text/html": [
       "<div>\n",
       "<style scoped>\n",
       "    .dataframe tbody tr th:only-of-type {\n",
       "        vertical-align: middle;\n",
       "    }\n",
       "\n",
       "    .dataframe tbody tr th {\n",
       "        vertical-align: top;\n",
       "    }\n",
       "\n",
       "    .dataframe thead th {\n",
       "        text-align: right;\n",
       "    }\n",
       "</style>\n",
       "<table border=\"1\" class=\"dataframe\">\n",
       "  <thead>\n",
       "    <tr style=\"text-align: right;\">\n",
       "      <th></th>\n",
       "      <th>inpatient_covid_therapeutic</th>\n",
       "      <th>any_admission</th>\n",
       "      <th>percent</th>\n",
       "    </tr>\n",
       "    <tr>\n",
       "      <th>high_risk_cohort_covid_therapeutics</th>\n",
       "      <th></th>\n",
       "      <th></th>\n",
       "      <th></th>\n",
       "    </tr>\n",
       "  </thead>\n",
       "  <tbody>\n",
       "    <tr>\n",
       "      <th>Downs syndrome</th>\n",
       "      <td>30</td>\n",
       "      <td>10.0</td>\n",
       "      <td>33.3</td>\n",
       "    </tr>\n",
       "    <tr>\n",
       "      <th>HIV or AIDS</th>\n",
       "      <td>15</td>\n",
       "      <td>10.0</td>\n",
       "      <td>66.7</td>\n",
       "    </tr>\n",
       "    <tr>\n",
       "      <th>IMID</th>\n",
       "      <td>35</td>\n",
       "      <td>10.0</td>\n",
       "      <td>28.6</td>\n",
       "    </tr>\n",
       "    <tr>\n",
       "      <th>IMID,solid cancer</th>\n",
       "      <td>35</td>\n",
       "      <td>NaN</td>\n",
       "      <td>NaN</td>\n",
       "    </tr>\n",
       "    <tr>\n",
       "      <th>haematological diseases,stem cell transplant recipients</th>\n",
       "      <td>20</td>\n",
       "      <td>10.0</td>\n",
       "      <td>50.0</td>\n",
       "    </tr>\n",
       "    <tr>\n",
       "      <th>haematological malignancies</th>\n",
       "      <td>15</td>\n",
       "      <td>NaN</td>\n",
       "      <td>NaN</td>\n",
       "    </tr>\n",
       "    <tr>\n",
       "      <th>liver disease</th>\n",
       "      <td>10</td>\n",
       "      <td>NaN</td>\n",
       "      <td>NaN</td>\n",
       "    </tr>\n",
       "    <tr>\n",
       "      <th>primary immune deficiencies</th>\n",
       "      <td>30</td>\n",
       "      <td>10.0</td>\n",
       "      <td>33.3</td>\n",
       "    </tr>\n",
       "    <tr>\n",
       "      <th>renal disease,sickle cell disease</th>\n",
       "      <td>25</td>\n",
       "      <td>10.0</td>\n",
       "      <td>40.0</td>\n",
       "    </tr>\n",
       "    <tr>\n",
       "      <th>sickle cell disease</th>\n",
       "      <td>30</td>\n",
       "      <td>10.0</td>\n",
       "      <td>33.3</td>\n",
       "    </tr>\n",
       "    <tr>\n",
       "      <th>solid cancer</th>\n",
       "      <td>25</td>\n",
       "      <td>10.0</td>\n",
       "      <td>40.0</td>\n",
       "    </tr>\n",
       "  </tbody>\n",
       "</table>\n",
       "</div>"
      ],
      "text/plain": [
       "                                                    inpatient_covid_therapeutic  \\\n",
       "high_risk_cohort_covid_therapeutics                                               \n",
       "Downs syndrome                                                               30   \n",
       "HIV or AIDS                                                                  15   \n",
       "IMID                                                                         35   \n",
       "IMID,solid cancer                                                            35   \n",
       "haematological diseases,stem cell transplant re...                           20   \n",
       "haematological malignancies                                                  15   \n",
       "liver disease                                                                10   \n",
       "primary immune deficiencies                                                  30   \n",
       "renal disease,sickle cell disease                                            25   \n",
       "sickle cell disease                                                          30   \n",
       "solid cancer                                                                 25   \n",
       "\n",
       "                                                    any_admission  percent  \n",
       "high_risk_cohort_covid_therapeutics                                         \n",
       "Downs syndrome                                               10.0     33.3  \n",
       "HIV or AIDS                                                  10.0     66.7  \n",
       "IMID                                                         10.0     28.6  \n",
       "IMID,solid cancer                                             NaN      NaN  \n",
       "haematological diseases,stem cell transplant re...           10.0     50.0  \n",
       "haematological malignancies                                   NaN      NaN  \n",
       "liver disease                                                 NaN      NaN  \n",
       "primary immune deficiencies                                  10.0     33.3  \n",
       "renal disease,sickle cell disease                            10.0     40.0  \n",
       "sickle cell disease                                          10.0     33.3  \n",
       "solid cancer                                                 10.0     40.0  "
      ]
     },
     "metadata": {},
     "output_type": "display_data"
    }
   ],
   "source": [
    "\n",
    "fields = {\n",
    "'Outpatient':\n",
    "    ['outpatient_covid_therapeutic_date',\n",
    "     'elective_or_op',\n",
    "     'elective_short_stay', \n",
    "     'daycase_admission_date',\n",
    "     'elective_x892_date', \n",
    "     'elective_x292_date', \n",
    "     'hospital_attendance_date'],\n",
    "'Inpatient':      \n",
    "    ['inpatient_covid_therapeutic_date',\n",
    "     'any_admission_date', \n",
    "     'any_admission_x892_date',\n",
    "     'any_admission_x292_date']\n",
    "}\n",
    "\n",
    "for x in fields:\n",
    "    f = fields[x][0]\n",
    "    display(Markdown(f\"## {x}\"))\n",
    "\n",
    "    # filter to treatment dates within available SUS data range\n",
    "    df1 = df.copy().loc[(df[f] <= maxdate)]\n",
    "\n",
    "    if x==\"Inpatient\": # don't count admissions if discharge date was after treatment date\n",
    "        display(Markdown(f\"Note: for inpatients, recent spells may not yet have completed so some data may be missing\"))\n",
    "        for c in fields[x][1:]: # for each admission type\n",
    "            # compare discharge date with treatment date and remove admission date if not in window\n",
    "            df1.loc[df1[f] > df1[c.replace(\"admission\", \"discharge\")], c] = np.nan\n",
    "            \n",
    "    # create df for mabs and separate df for Antivirals\n",
    "    name_field = f'{x.lower()}_covid_therapeutic_name'\n",
    "    df1[name_field] = df1[name_field].astype(str).fillna(\"\")\n",
    "    df_mab = df1.loc[df1[name_field].str.contains(\"mab\")]\n",
    "    df_non_mab = df1.loc[~df1[name_field].str.contains(\"mab\")]\n",
    "    treatments = {\"MABs\":df_mab,\n",
    "                  \"Antivirals\":df_non_mab}\n",
    "\n",
    "    # Breakdown by treatment type (MABs/Avs)\n",
    "    for t in treatments:\n",
    "        df_t = treatments[t]\n",
    "        summary1 = pd.DataFrame(df_t[fields[x]].count()).rename(columns={0:\"count\"})\n",
    "        summary1 = redact_small_numbers(summary1, n=5, rate_column=None)\n",
    "        summary1[\"percent\"] = (100*(summary1[\"count\"]/summary1[\"count\"][f])).fillna(0).round(1)\n",
    "        summary1.index = summary1.index.str.replace(\"_date\",\"\").str.replace(\"_month\",\"\")\n",
    "        out_text = f\"\"\"Out of **{summary1[\"count\"][0]}** patients treated in *{x}* settings with *{t}*, **{summary1[\"count\"][1]} ({summary1[\"percent\"][1]}%)** had *{summary1.index[1].replace(\"_\",\" \")}* in SUS\"\"\"\n",
    "\n",
    "        summary1.to_csv((f\"../output/{x}_{t}.csv\"))\n",
    "        display(Markdown(f\"### {t}\"), Markdown(out_text), summary1)\n",
    "\n",
    "    display(Markdown(\"### Breakdown by region, age group, month and treatment (MABs only)\"))\n",
    "    # Breakdown by region, age group and month (MABs only, most inclusive hospital record field only)\n",
    "    for col in [\"region_covid_therapeutics\",\"age_group\", f.replace(\"date\",\"month\"), \n",
    "                \"outpatient_covid_therapeutic_name\",\"inpatient_covid_therapeutic_name\",\n",
    "                \"high_risk_cohort_covid_therapeutics\"]:\n",
    "        if (col==\"outpatient_covid_therapeutic_name\" and x==\"Inpatient\") or \\\n",
    "            (col==\"inpatient_covid_therapeutic_name\" and x==\"Outpatient\"):\n",
    "            continue\n",
    "\n",
    "        summary2 = pd.DataFrame(df_mab.groupby(col)\\\n",
    "                [fields[x][0:2]].count()).rename(columns={0:\"count\"})\n",
    "        summary2 = redact_small_numbers(summary2, n=5, rate_column=None)\n",
    "        summary2[\"percent\"] = (100*summary2[fields[x][1]]/summary2[f]).round(1)\n",
    "        # filter out zero/suppressed values\n",
    "        summary2 = summary2.loc[summary2[f]>0]\n",
    "        summary2.columns = summary2.columns.str.replace(\"_date\",\"\").str.replace(\"_month\",\"\")\n",
    "\n",
    "        c_min = summary2[\"percent\"].min()\n",
    "        c_max = summary2[\"percent\"].max()\n",
    "        breakdown=col\n",
    "        if col==f.replace(\"date\",\"month\"):\n",
    "            breakdown = \"treatment_month\"\n",
    "        out_text = f\"\"\"The percent of MABs patients treated in *{x}* settings found in SUS varied by *{breakdown}* from **{c_min}%** to **{c_max}%**\"\"\"\n",
    "        summary2.to_csv((f\"../output/{x}_{t}_by_{breakdown}.csv\"))\n",
    "        display( Markdown(out_text), summary2)"
   ]
  }
 ],
 "metadata": {
  "interpreter": {
   "hash": "b8e3333fb8508c58cc3dde7918bcc9d194ca286def73d785f8633dc3f783c0e3"
  },
  "jupytext": {
   "cell_metadata_filter": "all",
   "notebook_metadata_filter": "all,-language_info",
   "text_representation": {
    "extension": ".py",
    "format_name": "light",
    "format_version": "1.5",
    "jupytext_version": "1.3.3"
   }
  },
  "kernelspec": {
   "display_name": "Python 3.8.1 ('antibiotics-rct')",
   "language": "python",
   "name": "python3"
  },
  "language_info": {
   "codemirror_mode": {
    "name": "ipython",
    "version": 3
   },
   "file_extension": ".py",
   "mimetype": "text/x-python",
   "name": "python",
   "nbconvert_exporter": "python",
   "pygments_lexer": "ipython3",
   "version": "3.8.1"
  }
 },
 "nbformat": 4,
 "nbformat_minor": 4
}
