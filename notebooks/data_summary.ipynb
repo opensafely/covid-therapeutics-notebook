{
 "cells": [
  {
   "cell_type": "markdown",
   "metadata": {
    "lines_to_next_cell": 2
   },
   "source": [
    "# Quick analysis"
   ]
  },
  {
   "cell_type": "code",
   "execution_count": 1,
   "metadata": {
    "lines_to_next_cell": 2
   },
   "outputs": [],
   "source": [
    "## Import libraries\n",
    "\n",
    "%load_ext autoreload\n",
    "%autoreload 2\n",
    "\n",
    "import os\n",
    "import pandas as pd\n",
    "import numpy as np\n",
    "from datetime import date, datetime\n",
    "from IPython.display import display, Markdown\n",
    "from utilities import redact_small_numbers\n"
   ]
  },
  {
   "cell_type": "code",
   "execution_count": 2,
   "metadata": {},
   "outputs": [
    {
     "data": {
      "text/markdown": [
       "Latest admission date: 2022-04-25"
      ],
      "text/plain": [
       "<IPython.core.display.Markdown object>"
      ]
     },
     "metadata": {},
     "output_type": "display_data"
    },
    {
     "data": {
      "text/markdown": [
       "Therapeutics: ['paxlovid', 'molnupiravir', 'sotrovimab', nan, 'remdesivir', 'casirivimab and imdevimab']"
      ],
      "text/plain": [
       "<IPython.core.display.Markdown object>"
      ]
     },
     "metadata": {},
     "output_type": "display_data"
    }
   ],
   "source": [
    "# import data\n",
    "\n",
    "df = pd.read_feather(\"../output/input.feather\")\n",
    "#df = pd.read_csv(\"../output/input.csv\")\n",
    "\n",
    "# for binary fields, replace zeros with null so that `count` can\n",
    "binary_fields = ['elective_short_stay', 'elective_or_op']\n",
    "for f in binary_fields:\n",
    "    df[f] = df[f].astype('int64').replace(0,np.nan)\n",
    "\n",
    "# treatment month\n",
    "df['outpatient_covid_therapeutic_month'] = df['outpatient_covid_therapeutic_date'].astype(str).str[:-3]\n",
    "df['inpatient_covid_therapeutic_month'] = df['inpatient_covid_therapeutic_date'].astype(str).str[:-3]\n",
    "\n",
    "# latest date of inpatient records - to use as cutoff for all data\n",
    "maxdate = df[\"any_admission_date\"].max()\n",
    "display(Markdown(f\"Latest admission date: {maxdate}\"))\n",
    "display(Markdown(f\"Therapeutics: {df['outpatient_covid_therapeutic_name'].unique().tolist()}\"))"
   ]
  },
  {
   "cell_type": "code",
   "execution_count": 19,
   "metadata": {},
   "outputs": [
    {
     "data": {
      "text/markdown": [
       "## Outpatient"
      ],
      "text/plain": [
       "<IPython.core.display.Markdown object>"
      ]
     },
     "metadata": {},
     "output_type": "display_data"
    },
    {
     "data": {
      "text/markdown": [
       "### MABs"
      ],
      "text/plain": [
       "<IPython.core.display.Markdown object>"
      ]
     },
     "metadata": {},
     "output_type": "display_data"
    },
    {
     "data": {
      "text/markdown": [
       "Out of **335** patients treated in *Outpatient* settings with *MABs*, **170 (50.7%)** had *elective or op* in SUS"
      ],
      "text/plain": [
       "<IPython.core.display.Markdown object>"
      ]
     },
     "metadata": {},
     "output_type": "display_data"
    },
    {
     "data": {
      "text/html": [
       "<div>\n",
       "<style scoped>\n",
       "    .dataframe tbody tr th:only-of-type {\n",
       "        vertical-align: middle;\n",
       "    }\n",
       "\n",
       "    .dataframe tbody tr th {\n",
       "        vertical-align: top;\n",
       "    }\n",
       "\n",
       "    .dataframe thead th {\n",
       "        text-align: right;\n",
       "    }\n",
       "</style>\n",
       "<table border=\"1\" class=\"dataframe\">\n",
       "  <thead>\n",
       "    <tr style=\"text-align: right;\">\n",
       "      <th></th>\n",
       "      <th>count</th>\n",
       "      <th>percent</th>\n",
       "    </tr>\n",
       "  </thead>\n",
       "  <tbody>\n",
       "    <tr>\n",
       "      <th>outpatient_covid_therapeutic</th>\n",
       "      <td>335</td>\n",
       "      <td>100.0</td>\n",
       "    </tr>\n",
       "    <tr>\n",
       "      <th>elective_or_op</th>\n",
       "      <td>170</td>\n",
       "      <td>50.7</td>\n",
       "    </tr>\n",
       "    <tr>\n",
       "      <th>elective_short_stay</th>\n",
       "      <td>240</td>\n",
       "      <td>71.6</td>\n",
       "    </tr>\n",
       "    <tr>\n",
       "      <th>daycase_admission</th>\n",
       "      <td>180</td>\n",
       "      <td>53.7</td>\n",
       "    </tr>\n",
       "    <tr>\n",
       "      <th>elective_x892</th>\n",
       "      <td>40</td>\n",
       "      <td>11.9</td>\n",
       "    </tr>\n",
       "    <tr>\n",
       "      <th>elective_x292</th>\n",
       "      <td>30</td>\n",
       "      <td>9.0</td>\n",
       "    </tr>\n",
       "    <tr>\n",
       "      <th>hospital_attendance</th>\n",
       "      <td>40</td>\n",
       "      <td>11.9</td>\n",
       "    </tr>\n",
       "  </tbody>\n",
       "</table>\n",
       "</div>"
      ],
      "text/plain": [
       "                              count  percent\n",
       "outpatient_covid_therapeutic    335    100.0\n",
       "elective_or_op                  170     50.7\n",
       "elective_short_stay             240     71.6\n",
       "daycase_admission               180     53.7\n",
       "elective_x892                    40     11.9\n",
       "elective_x292                    30      9.0\n",
       "hospital_attendance              40     11.9"
      ]
     },
     "metadata": {},
     "output_type": "display_data"
    },
    {
     "data": {
      "text/markdown": [
       "### Antivirals"
      ],
      "text/plain": [
       "<IPython.core.display.Markdown object>"
      ]
     },
     "metadata": {},
     "output_type": "display_data"
    },
    {
     "data": {
      "text/markdown": [
       "Out of **665** patients treated in *Outpatient* settings with *Antivirals*, **330 (49.6%)** had *elective or op* in SUS"
      ],
      "text/plain": [
       "<IPython.core.display.Markdown object>"
      ]
     },
     "metadata": {},
     "output_type": "display_data"
    },
    {
     "data": {
      "text/html": [
       "<div>\n",
       "<style scoped>\n",
       "    .dataframe tbody tr th:only-of-type {\n",
       "        vertical-align: middle;\n",
       "    }\n",
       "\n",
       "    .dataframe tbody tr th {\n",
       "        vertical-align: top;\n",
       "    }\n",
       "\n",
       "    .dataframe thead th {\n",
       "        text-align: right;\n",
       "    }\n",
       "</style>\n",
       "<table border=\"1\" class=\"dataframe\">\n",
       "  <thead>\n",
       "    <tr style=\"text-align: right;\">\n",
       "      <th></th>\n",
       "      <th>count</th>\n",
       "      <th>percent</th>\n",
       "    </tr>\n",
       "  </thead>\n",
       "  <tbody>\n",
       "    <tr>\n",
       "      <th>outpatient_covid_therapeutic</th>\n",
       "      <td>665</td>\n",
       "      <td>100.0</td>\n",
       "    </tr>\n",
       "    <tr>\n",
       "      <th>elective_or_op</th>\n",
       "      <td>330</td>\n",
       "      <td>49.6</td>\n",
       "    </tr>\n",
       "    <tr>\n",
       "      <th>elective_short_stay</th>\n",
       "      <td>460</td>\n",
       "      <td>69.2</td>\n",
       "    </tr>\n",
       "    <tr>\n",
       "      <th>daycase_admission</th>\n",
       "      <td>320</td>\n",
       "      <td>48.1</td>\n",
       "    </tr>\n",
       "    <tr>\n",
       "      <th>elective_x892</th>\n",
       "      <td>60</td>\n",
       "      <td>9.0</td>\n",
       "    </tr>\n",
       "    <tr>\n",
       "      <th>elective_x292</th>\n",
       "      <td>70</td>\n",
       "      <td>10.5</td>\n",
       "    </tr>\n",
       "    <tr>\n",
       "      <th>hospital_attendance</th>\n",
       "      <td>60</td>\n",
       "      <td>9.0</td>\n",
       "    </tr>\n",
       "  </tbody>\n",
       "</table>\n",
       "</div>"
      ],
      "text/plain": [
       "                              count  percent\n",
       "outpatient_covid_therapeutic    665    100.0\n",
       "elective_or_op                  330     49.6\n",
       "elective_short_stay             460     69.2\n",
       "daycase_admission               320     48.1\n",
       "elective_x892                    60      9.0\n",
       "elective_x292                    70     10.5\n",
       "hospital_attendance              60      9.0"
      ]
     },
     "metadata": {},
     "output_type": "display_data"
    },
    {
     "data": {
      "text/markdown": [
       "### Breakdown by region, age group and month (MABs only)"
      ],
      "text/plain": [
       "<IPython.core.display.Markdown object>"
      ]
     },
     "metadata": {},
     "output_type": "display_data"
    },
    {
     "data": {
      "text/markdown": [
       "The percent of MABs patients treated in *Outpatient* settings found in SUS varied by *region_covid_therapeutics* from **28.6%** to **66.7%**"
      ],
      "text/plain": [
       "<IPython.core.display.Markdown object>"
      ]
     },
     "metadata": {},
     "output_type": "display_data"
    },
    {
     "data": {
      "text/html": [
       "<div>\n",
       "<style scoped>\n",
       "    .dataframe tbody tr th:only-of-type {\n",
       "        vertical-align: middle;\n",
       "    }\n",
       "\n",
       "    .dataframe tbody tr th {\n",
       "        vertical-align: top;\n",
       "    }\n",
       "\n",
       "    .dataframe thead th {\n",
       "        text-align: right;\n",
       "    }\n",
       "</style>\n",
       "<table border=\"1\" class=\"dataframe\">\n",
       "  <thead>\n",
       "    <tr style=\"text-align: right;\">\n",
       "      <th></th>\n",
       "      <th>outpatient_covid_therapeutic</th>\n",
       "      <th>elective_or_op</th>\n",
       "      <th>percent</th>\n",
       "    </tr>\n",
       "    <tr>\n",
       "      <th>region_covid_therapeutics</th>\n",
       "      <th></th>\n",
       "      <th></th>\n",
       "      <th></th>\n",
       "    </tr>\n",
       "  </thead>\n",
       "  <tbody>\n",
       "    <tr>\n",
       "      <th>East</th>\n",
       "      <td>30</td>\n",
       "      <td>15</td>\n",
       "      <td>50.0</td>\n",
       "    </tr>\n",
       "    <tr>\n",
       "      <th>East Midlands</th>\n",
       "      <td>35</td>\n",
       "      <td>15</td>\n",
       "      <td>42.9</td>\n",
       "    </tr>\n",
       "    <tr>\n",
       "      <th>London</th>\n",
       "      <td>65</td>\n",
       "      <td>35</td>\n",
       "      <td>53.8</td>\n",
       "    </tr>\n",
       "    <tr>\n",
       "      <th>North East</th>\n",
       "      <td>35</td>\n",
       "      <td>10</td>\n",
       "      <td>28.6</td>\n",
       "    </tr>\n",
       "    <tr>\n",
       "      <th>North West</th>\n",
       "      <td>30</td>\n",
       "      <td>15</td>\n",
       "      <td>50.0</td>\n",
       "    </tr>\n",
       "    <tr>\n",
       "      <th>South East</th>\n",
       "      <td>40</td>\n",
       "      <td>20</td>\n",
       "      <td>50.0</td>\n",
       "    </tr>\n",
       "    <tr>\n",
       "      <th>South West</th>\n",
       "      <td>30</td>\n",
       "      <td>15</td>\n",
       "      <td>50.0</td>\n",
       "    </tr>\n",
       "    <tr>\n",
       "      <th>West Midlands</th>\n",
       "      <td>45</td>\n",
       "      <td>30</td>\n",
       "      <td>66.7</td>\n",
       "    </tr>\n",
       "    <tr>\n",
       "      <th>Yorkshire and The Humber</th>\n",
       "      <td>30</td>\n",
       "      <td>10</td>\n",
       "      <td>33.3</td>\n",
       "    </tr>\n",
       "  </tbody>\n",
       "</table>\n",
       "</div>"
      ],
      "text/plain": [
       "                           outpatient_covid_therapeutic  elective_or_op  \\\n",
       "region_covid_therapeutics                                                 \n",
       "East                                                 30              15   \n",
       "East Midlands                                        35              15   \n",
       "London                                               65              35   \n",
       "North East                                           35              10   \n",
       "North West                                           30              15   \n",
       "South East                                           40              20   \n",
       "South West                                           30              15   \n",
       "West Midlands                                        45              30   \n",
       "Yorkshire and The Humber                             30              10   \n",
       "\n",
       "                           percent  \n",
       "region_covid_therapeutics           \n",
       "East                          50.0  \n",
       "East Midlands                 42.9  \n",
       "London                        53.8  \n",
       "North East                    28.6  \n",
       "North West                    50.0  \n",
       "South East                    50.0  \n",
       "South West                    50.0  \n",
       "West Midlands                 66.7  \n",
       "Yorkshire and The Humber      33.3  "
      ]
     },
     "metadata": {},
     "output_type": "display_data"
    },
    {
     "data": {
      "text/markdown": [
       "The percent of MABs patients treated in *Outpatient* settings found in SUS varied by *age_group* from **40.0%** to **57.1%**"
      ],
      "text/plain": [
       "<IPython.core.display.Markdown object>"
      ]
     },
     "metadata": {},
     "output_type": "display_data"
    },
    {
     "data": {
      "text/html": [
       "<div>\n",
       "<style scoped>\n",
       "    .dataframe tbody tr th:only-of-type {\n",
       "        vertical-align: middle;\n",
       "    }\n",
       "\n",
       "    .dataframe tbody tr th {\n",
       "        vertical-align: top;\n",
       "    }\n",
       "\n",
       "    .dataframe thead th {\n",
       "        text-align: right;\n",
       "    }\n",
       "</style>\n",
       "<table border=\"1\" class=\"dataframe\">\n",
       "  <thead>\n",
       "    <tr style=\"text-align: right;\">\n",
       "      <th></th>\n",
       "      <th>outpatient_covid_therapeutic</th>\n",
       "      <th>elective_or_op</th>\n",
       "      <th>percent</th>\n",
       "    </tr>\n",
       "    <tr>\n",
       "      <th>age_group</th>\n",
       "      <th></th>\n",
       "      <th></th>\n",
       "      <th></th>\n",
       "    </tr>\n",
       "  </thead>\n",
       "  <tbody>\n",
       "    <tr>\n",
       "      <th>12-24</th>\n",
       "      <td>35</td>\n",
       "      <td>20</td>\n",
       "      <td>57.1</td>\n",
       "    </tr>\n",
       "    <tr>\n",
       "      <th>25-34</th>\n",
       "      <td>25</td>\n",
       "      <td>10</td>\n",
       "      <td>40.0</td>\n",
       "    </tr>\n",
       "    <tr>\n",
       "      <th>35-44</th>\n",
       "      <td>65</td>\n",
       "      <td>30</td>\n",
       "      <td>46.2</td>\n",
       "    </tr>\n",
       "    <tr>\n",
       "      <th>45-54</th>\n",
       "      <td>60</td>\n",
       "      <td>25</td>\n",
       "      <td>41.7</td>\n",
       "    </tr>\n",
       "    <tr>\n",
       "      <th>55-64</th>\n",
       "      <td>35</td>\n",
       "      <td>15</td>\n",
       "      <td>42.9</td>\n",
       "    </tr>\n",
       "    <tr>\n",
       "      <th>65-74</th>\n",
       "      <td>35</td>\n",
       "      <td>20</td>\n",
       "      <td>57.1</td>\n",
       "    </tr>\n",
       "    <tr>\n",
       "      <th>75+</th>\n",
       "      <td>45</td>\n",
       "      <td>25</td>\n",
       "      <td>55.6</td>\n",
       "    </tr>\n",
       "    <tr>\n",
       "      <th>missing</th>\n",
       "      <td>40</td>\n",
       "      <td>20</td>\n",
       "      <td>50.0</td>\n",
       "    </tr>\n",
       "  </tbody>\n",
       "</table>\n",
       "</div>"
      ],
      "text/plain": [
       "           outpatient_covid_therapeutic  elective_or_op  percent\n",
       "age_group                                                       \n",
       "12-24                                35              20     57.1\n",
       "25-34                                25              10     40.0\n",
       "35-44                                65              30     46.2\n",
       "45-54                                60              25     41.7\n",
       "55-64                                35              15     42.9\n",
       "65-74                                35              20     57.1\n",
       "75+                                  45              25     55.6\n",
       "missing                              40              20     50.0"
      ]
     },
     "metadata": {},
     "output_type": "display_data"
    },
    {
     "data": {
      "text/markdown": [
       "The percent of MABs patients treated in *Outpatient* settings found in SUS varied by *treatment_month* from **46.2%** to **60.0%**"
      ],
      "text/plain": [
       "<IPython.core.display.Markdown object>"
      ]
     },
     "metadata": {},
     "output_type": "display_data"
    },
    {
     "data": {
      "text/html": [
       "<div>\n",
       "<style scoped>\n",
       "    .dataframe tbody tr th:only-of-type {\n",
       "        vertical-align: middle;\n",
       "    }\n",
       "\n",
       "    .dataframe tbody tr th {\n",
       "        vertical-align: top;\n",
       "    }\n",
       "\n",
       "    .dataframe thead th {\n",
       "        text-align: right;\n",
       "    }\n",
       "</style>\n",
       "<table border=\"1\" class=\"dataframe\">\n",
       "  <thead>\n",
       "    <tr style=\"text-align: right;\">\n",
       "      <th></th>\n",
       "      <th>outpatient_covid_therapeutic</th>\n",
       "      <th>elective_or_op</th>\n",
       "      <th>percent</th>\n",
       "    </tr>\n",
       "    <tr>\n",
       "      <th>outpatient_covid_therapeutic_month</th>\n",
       "      <th></th>\n",
       "      <th></th>\n",
       "      <th></th>\n",
       "    </tr>\n",
       "  </thead>\n",
       "  <tbody>\n",
       "    <tr>\n",
       "      <th></th>\n",
       "      <td>55</td>\n",
       "      <td>30</td>\n",
       "      <td>54.5</td>\n",
       "    </tr>\n",
       "    <tr>\n",
       "      <th>2021-12</th>\n",
       "      <td>40</td>\n",
       "      <td>20</td>\n",
       "      <td>50.0</td>\n",
       "    </tr>\n",
       "    <tr>\n",
       "      <th>2022-01</th>\n",
       "      <td>65</td>\n",
       "      <td>30</td>\n",
       "      <td>46.2</td>\n",
       "    </tr>\n",
       "    <tr>\n",
       "      <th>2022-02</th>\n",
       "      <td>50</td>\n",
       "      <td>30</td>\n",
       "      <td>60.0</td>\n",
       "    </tr>\n",
       "    <tr>\n",
       "      <th>2022-03</th>\n",
       "      <td>80</td>\n",
       "      <td>45</td>\n",
       "      <td>56.2</td>\n",
       "    </tr>\n",
       "    <tr>\n",
       "      <th>2022-04</th>\n",
       "      <td>40</td>\n",
       "      <td>20</td>\n",
       "      <td>50.0</td>\n",
       "    </tr>\n",
       "  </tbody>\n",
       "</table>\n",
       "</div>"
      ],
      "text/plain": [
       "                                    outpatient_covid_therapeutic  \\\n",
       "outpatient_covid_therapeutic_month                                 \n",
       "                                                              55   \n",
       "2021-12                                                       40   \n",
       "2022-01                                                       65   \n",
       "2022-02                                                       50   \n",
       "2022-03                                                       80   \n",
       "2022-04                                                       40   \n",
       "\n",
       "                                    elective_or_op  percent  \n",
       "outpatient_covid_therapeutic_month                           \n",
       "                                                30     54.5  \n",
       "2021-12                                         20     50.0  \n",
       "2022-01                                         30     46.2  \n",
       "2022-02                                         30     60.0  \n",
       "2022-03                                         45     56.2  \n",
       "2022-04                                         20     50.0  "
      ]
     },
     "metadata": {},
     "output_type": "display_data"
    },
    {
     "data": {
      "text/markdown": [
       "## Inpatient"
      ],
      "text/plain": [
       "<IPython.core.display.Markdown object>"
      ]
     },
     "metadata": {},
     "output_type": "display_data"
    },
    {
     "data": {
      "text/markdown": [
       "Note: for inpatients, recent spells may not yet have completed so some data may be missing"
      ],
      "text/plain": [
       "<IPython.core.display.Markdown object>"
      ]
     },
     "metadata": {},
     "output_type": "display_data"
    },
    {
     "data": {
      "text/markdown": [
       "### MABs"
      ],
      "text/plain": [
       "<IPython.core.display.Markdown object>"
      ]
     },
     "metadata": {},
     "output_type": "display_data"
    },
    {
     "data": {
      "text/markdown": [
       "Out of **355** patients treated in *Inpatient* settings with *MABs*, **145 (40.8%)** had *any admission* in SUS"
      ],
      "text/plain": [
       "<IPython.core.display.Markdown object>"
      ]
     },
     "metadata": {},
     "output_type": "display_data"
    },
    {
     "data": {
      "text/html": [
       "<div>\n",
       "<style scoped>\n",
       "    .dataframe tbody tr th:only-of-type {\n",
       "        vertical-align: middle;\n",
       "    }\n",
       "\n",
       "    .dataframe tbody tr th {\n",
       "        vertical-align: top;\n",
       "    }\n",
       "\n",
       "    .dataframe thead th {\n",
       "        text-align: right;\n",
       "    }\n",
       "</style>\n",
       "<table border=\"1\" class=\"dataframe\">\n",
       "  <thead>\n",
       "    <tr style=\"text-align: right;\">\n",
       "      <th></th>\n",
       "      <th>count</th>\n",
       "      <th>percent</th>\n",
       "    </tr>\n",
       "  </thead>\n",
       "  <tbody>\n",
       "    <tr>\n",
       "      <th>inpatient_covid_therapeutic</th>\n",
       "      <td>355</td>\n",
       "      <td>100.0</td>\n",
       "    </tr>\n",
       "    <tr>\n",
       "      <th>any_admission</th>\n",
       "      <td>145</td>\n",
       "      <td>40.8</td>\n",
       "    </tr>\n",
       "    <tr>\n",
       "      <th>any_admission_x892</th>\n",
       "      <td>85</td>\n",
       "      <td>23.9</td>\n",
       "    </tr>\n",
       "    <tr>\n",
       "      <th>any_admission_x292</th>\n",
       "      <td>100</td>\n",
       "      <td>28.2</td>\n",
       "    </tr>\n",
       "  </tbody>\n",
       "</table>\n",
       "</div>"
      ],
      "text/plain": [
       "                             count  percent\n",
       "inpatient_covid_therapeutic    355    100.0\n",
       "any_admission                  145     40.8\n",
       "any_admission_x892              85     23.9\n",
       "any_admission_x292             100     28.2"
      ]
     },
     "metadata": {},
     "output_type": "display_data"
    },
    {
     "data": {
      "text/markdown": [
       "### Antivirals"
      ],
      "text/plain": [
       "<IPython.core.display.Markdown object>"
      ]
     },
     "metadata": {},
     "output_type": "display_data"
    },
    {
     "data": {
      "text/markdown": [
       "Out of **645** patients treated in *Inpatient* settings with *Antivirals*, **270 (41.9%)** had *any admission* in SUS"
      ],
      "text/plain": [
       "<IPython.core.display.Markdown object>"
      ]
     },
     "metadata": {},
     "output_type": "display_data"
    },
    {
     "data": {
      "text/html": [
       "<div>\n",
       "<style scoped>\n",
       "    .dataframe tbody tr th:only-of-type {\n",
       "        vertical-align: middle;\n",
       "    }\n",
       "\n",
       "    .dataframe tbody tr th {\n",
       "        vertical-align: top;\n",
       "    }\n",
       "\n",
       "    .dataframe thead th {\n",
       "        text-align: right;\n",
       "    }\n",
       "</style>\n",
       "<table border=\"1\" class=\"dataframe\">\n",
       "  <thead>\n",
       "    <tr style=\"text-align: right;\">\n",
       "      <th></th>\n",
       "      <th>count</th>\n",
       "      <th>percent</th>\n",
       "    </tr>\n",
       "  </thead>\n",
       "  <tbody>\n",
       "    <tr>\n",
       "      <th>inpatient_covid_therapeutic</th>\n",
       "      <td>645</td>\n",
       "      <td>100.0</td>\n",
       "    </tr>\n",
       "    <tr>\n",
       "      <th>any_admission</th>\n",
       "      <td>270</td>\n",
       "      <td>41.9</td>\n",
       "    </tr>\n",
       "    <tr>\n",
       "      <th>any_admission_x892</th>\n",
       "      <td>185</td>\n",
       "      <td>28.7</td>\n",
       "    </tr>\n",
       "    <tr>\n",
       "      <th>any_admission_x292</th>\n",
       "      <td>170</td>\n",
       "      <td>26.4</td>\n",
       "    </tr>\n",
       "  </tbody>\n",
       "</table>\n",
       "</div>"
      ],
      "text/plain": [
       "                             count  percent\n",
       "inpatient_covid_therapeutic    645    100.0\n",
       "any_admission                  270     41.9\n",
       "any_admission_x892             185     28.7\n",
       "any_admission_x292             170     26.4"
      ]
     },
     "metadata": {},
     "output_type": "display_data"
    },
    {
     "data": {
      "text/markdown": [
       "### Breakdown by region, age group and month (MABs only)"
      ],
      "text/plain": [
       "<IPython.core.display.Markdown object>"
      ]
     },
     "metadata": {},
     "output_type": "display_data"
    },
    {
     "data": {
      "text/markdown": [
       "The percent of MABs patients treated in *Inpatient* settings found in SUS varied by *region_covid_therapeutics* from **28.6%** to **57.1%**"
      ],
      "text/plain": [
       "<IPython.core.display.Markdown object>"
      ]
     },
     "metadata": {},
     "output_type": "display_data"
    },
    {
     "data": {
      "text/html": [
       "<div>\n",
       "<style scoped>\n",
       "    .dataframe tbody tr th:only-of-type {\n",
       "        vertical-align: middle;\n",
       "    }\n",
       "\n",
       "    .dataframe tbody tr th {\n",
       "        vertical-align: top;\n",
       "    }\n",
       "\n",
       "    .dataframe thead th {\n",
       "        text-align: right;\n",
       "    }\n",
       "</style>\n",
       "<table border=\"1\" class=\"dataframe\">\n",
       "  <thead>\n",
       "    <tr style=\"text-align: right;\">\n",
       "      <th></th>\n",
       "      <th>inpatient_covid_therapeutic</th>\n",
       "      <th>any_admission</th>\n",
       "      <th>percent</th>\n",
       "    </tr>\n",
       "    <tr>\n",
       "      <th>region_covid_therapeutics</th>\n",
       "      <th></th>\n",
       "      <th></th>\n",
       "      <th></th>\n",
       "    </tr>\n",
       "  </thead>\n",
       "  <tbody>\n",
       "    <tr>\n",
       "      <th>East</th>\n",
       "      <td>35</td>\n",
       "      <td>10</td>\n",
       "      <td>28.6</td>\n",
       "    </tr>\n",
       "    <tr>\n",
       "      <th>East Midlands</th>\n",
       "      <td>35</td>\n",
       "      <td>10</td>\n",
       "      <td>28.6</td>\n",
       "    </tr>\n",
       "    <tr>\n",
       "      <th>London</th>\n",
       "      <td>65</td>\n",
       "      <td>30</td>\n",
       "      <td>46.2</td>\n",
       "    </tr>\n",
       "    <tr>\n",
       "      <th>North East</th>\n",
       "      <td>40</td>\n",
       "      <td>15</td>\n",
       "      <td>37.5</td>\n",
       "    </tr>\n",
       "    <tr>\n",
       "      <th>North West</th>\n",
       "      <td>35</td>\n",
       "      <td>15</td>\n",
       "      <td>42.9</td>\n",
       "    </tr>\n",
       "    <tr>\n",
       "      <th>South East</th>\n",
       "      <td>45</td>\n",
       "      <td>20</td>\n",
       "      <td>44.4</td>\n",
       "    </tr>\n",
       "    <tr>\n",
       "      <th>South West</th>\n",
       "      <td>30</td>\n",
       "      <td>15</td>\n",
       "      <td>50.0</td>\n",
       "    </tr>\n",
       "    <tr>\n",
       "      <th>West Midlands</th>\n",
       "      <td>35</td>\n",
       "      <td>20</td>\n",
       "      <td>57.1</td>\n",
       "    </tr>\n",
       "    <tr>\n",
       "      <th>Yorkshire and The Humber</th>\n",
       "      <td>30</td>\n",
       "      <td>10</td>\n",
       "      <td>33.3</td>\n",
       "    </tr>\n",
       "  </tbody>\n",
       "</table>\n",
       "</div>"
      ],
      "text/plain": [
       "                           inpatient_covid_therapeutic  any_admission  percent\n",
       "region_covid_therapeutics                                                     \n",
       "East                                                35             10     28.6\n",
       "East Midlands                                       35             10     28.6\n",
       "London                                              65             30     46.2\n",
       "North East                                          40             15     37.5\n",
       "North West                                          35             15     42.9\n",
       "South East                                          45             20     44.4\n",
       "South West                                          30             15     50.0\n",
       "West Midlands                                       35             20     57.1\n",
       "Yorkshire and The Humber                            30             10     33.3"
      ]
     },
     "metadata": {},
     "output_type": "display_data"
    },
    {
     "data": {
      "text/markdown": [
       "The percent of MABs patients treated in *Inpatient* settings found in SUS varied by *age_group* from **33.3%** to **55.6%**"
      ],
      "text/plain": [
       "<IPython.core.display.Markdown object>"
      ]
     },
     "metadata": {},
     "output_type": "display_data"
    },
    {
     "data": {
      "text/html": [
       "<div>\n",
       "<style scoped>\n",
       "    .dataframe tbody tr th:only-of-type {\n",
       "        vertical-align: middle;\n",
       "    }\n",
       "\n",
       "    .dataframe tbody tr th {\n",
       "        vertical-align: top;\n",
       "    }\n",
       "\n",
       "    .dataframe thead th {\n",
       "        text-align: right;\n",
       "    }\n",
       "</style>\n",
       "<table border=\"1\" class=\"dataframe\">\n",
       "  <thead>\n",
       "    <tr style=\"text-align: right;\">\n",
       "      <th></th>\n",
       "      <th>inpatient_covid_therapeutic</th>\n",
       "      <th>any_admission</th>\n",
       "      <th>percent</th>\n",
       "    </tr>\n",
       "    <tr>\n",
       "      <th>age_group</th>\n",
       "      <th></th>\n",
       "      <th></th>\n",
       "      <th></th>\n",
       "    </tr>\n",
       "  </thead>\n",
       "  <tbody>\n",
       "    <tr>\n",
       "      <th>12-24</th>\n",
       "      <td>35</td>\n",
       "      <td>15</td>\n",
       "      <td>42.9</td>\n",
       "    </tr>\n",
       "    <tr>\n",
       "      <th>25-34</th>\n",
       "      <td>30</td>\n",
       "      <td>10</td>\n",
       "      <td>33.3</td>\n",
       "    </tr>\n",
       "    <tr>\n",
       "      <th>35-44</th>\n",
       "      <td>70</td>\n",
       "      <td>30</td>\n",
       "      <td>42.9</td>\n",
       "    </tr>\n",
       "    <tr>\n",
       "      <th>45-54</th>\n",
       "      <td>55</td>\n",
       "      <td>20</td>\n",
       "      <td>36.4</td>\n",
       "    </tr>\n",
       "    <tr>\n",
       "      <th>55-64</th>\n",
       "      <td>45</td>\n",
       "      <td>20</td>\n",
       "      <td>44.4</td>\n",
       "    </tr>\n",
       "    <tr>\n",
       "      <th>65-74</th>\n",
       "      <td>40</td>\n",
       "      <td>15</td>\n",
       "      <td>37.5</td>\n",
       "    </tr>\n",
       "    <tr>\n",
       "      <th>75+</th>\n",
       "      <td>35</td>\n",
       "      <td>15</td>\n",
       "      <td>42.9</td>\n",
       "    </tr>\n",
       "    <tr>\n",
       "      <th>missing</th>\n",
       "      <td>45</td>\n",
       "      <td>25</td>\n",
       "      <td>55.6</td>\n",
       "    </tr>\n",
       "  </tbody>\n",
       "</table>\n",
       "</div>"
      ],
      "text/plain": [
       "           inpatient_covid_therapeutic  any_admission  percent\n",
       "age_group                                                     \n",
       "12-24                               35             15     42.9\n",
       "25-34                               30             10     33.3\n",
       "35-44                               70             30     42.9\n",
       "45-54                               55             20     36.4\n",
       "55-64                               45             20     44.4\n",
       "65-74                               40             15     37.5\n",
       "75+                                 35             15     42.9\n",
       "missing                             45             25     55.6"
      ]
     },
     "metadata": {},
     "output_type": "display_data"
    },
    {
     "data": {
      "text/markdown": [
       "The percent of MABs patients treated in *Inpatient* settings found in SUS varied by *treatment_month* from **18.2%** to **62.5%**"
      ],
      "text/plain": [
       "<IPython.core.display.Markdown object>"
      ]
     },
     "metadata": {},
     "output_type": "display_data"
    },
    {
     "data": {
      "text/html": [
       "<div>\n",
       "<style scoped>\n",
       "    .dataframe tbody tr th:only-of-type {\n",
       "        vertical-align: middle;\n",
       "    }\n",
       "\n",
       "    .dataframe tbody tr th {\n",
       "        vertical-align: top;\n",
       "    }\n",
       "\n",
       "    .dataframe thead th {\n",
       "        text-align: right;\n",
       "    }\n",
       "</style>\n",
       "<table border=\"1\" class=\"dataframe\">\n",
       "  <thead>\n",
       "    <tr style=\"text-align: right;\">\n",
       "      <th></th>\n",
       "      <th>inpatient_covid_therapeutic</th>\n",
       "      <th>any_admission</th>\n",
       "      <th>percent</th>\n",
       "    </tr>\n",
       "    <tr>\n",
       "      <th>inpatient_covid_therapeutic_month</th>\n",
       "      <th></th>\n",
       "      <th></th>\n",
       "      <th></th>\n",
       "    </tr>\n",
       "  </thead>\n",
       "  <tbody>\n",
       "    <tr>\n",
       "      <th></th>\n",
       "      <td>75</td>\n",
       "      <td>35</td>\n",
       "      <td>46.7</td>\n",
       "    </tr>\n",
       "    <tr>\n",
       "      <th>2021-12</th>\n",
       "      <td>40</td>\n",
       "      <td>25</td>\n",
       "      <td>62.5</td>\n",
       "    </tr>\n",
       "    <tr>\n",
       "      <th>2022-01</th>\n",
       "      <td>65</td>\n",
       "      <td>25</td>\n",
       "      <td>38.5</td>\n",
       "    </tr>\n",
       "    <tr>\n",
       "      <th>2022-02</th>\n",
       "      <td>65</td>\n",
       "      <td>25</td>\n",
       "      <td>38.5</td>\n",
       "    </tr>\n",
       "    <tr>\n",
       "      <th>2022-03</th>\n",
       "      <td>60</td>\n",
       "      <td>25</td>\n",
       "      <td>41.7</td>\n",
       "    </tr>\n",
       "    <tr>\n",
       "      <th>2022-04</th>\n",
       "      <td>55</td>\n",
       "      <td>10</td>\n",
       "      <td>18.2</td>\n",
       "    </tr>\n",
       "  </tbody>\n",
       "</table>\n",
       "</div>"
      ],
      "text/plain": [
       "                                   inpatient_covid_therapeutic  any_admission  \\\n",
       "inpatient_covid_therapeutic_month                                               \n",
       "                                                            75             35   \n",
       "2021-12                                                     40             25   \n",
       "2022-01                                                     65             25   \n",
       "2022-02                                                     65             25   \n",
       "2022-03                                                     60             25   \n",
       "2022-04                                                     55             10   \n",
       "\n",
       "                                   percent  \n",
       "inpatient_covid_therapeutic_month           \n",
       "                                      46.7  \n",
       "2021-12                               62.5  \n",
       "2022-01                               38.5  \n",
       "2022-02                               38.5  \n",
       "2022-03                               41.7  \n",
       "2022-04                               18.2  "
      ]
     },
     "metadata": {},
     "output_type": "display_data"
    }
   ],
   "source": [
    "\n",
    "fields = {\n",
    "'Outpatient':\n",
    "    ['outpatient_covid_therapeutic_month',\n",
    "     'elective_or_op',\n",
    "     'elective_short_stay', \n",
    "     'daycase_admission_date',\n",
    "     'elective_x892_date', \n",
    "     'elective_x292_date', \n",
    "     'hospital_attendance_date'],\n",
    "'Inpatient':      \n",
    "    ['inpatient_covid_therapeutic_month',\n",
    "     'any_admission_date', \n",
    "     'any_admission_x892_date',\n",
    "     'any_admission_x292_date']\n",
    "}\n",
    "\n",
    "for x in fields:\n",
    "    f = fields[x][0]\n",
    "    display(Markdown(f\"## {x}\"))\n",
    "\n",
    "    # filter to treatment dates within available SUS data range\n",
    "    df1 = df.copy().loc[(df[f] <= maxdate)]\n",
    "\n",
    "    if x==\"Inpatient\": # don't count admissions if discharge date was after treatment date\n",
    "        display(Markdown(f\"Note: for inpatients, recent spells may not yet have completed so some data may be missing\"))\n",
    "        for c in fields[x][1:]: # for each admission type\n",
    "            # compare discharge date with treatment date and remove admission date if not in window\n",
    "            df1.loc[df1[f] > df1[c.replace(\"admission\", \"discharge\")], c] = np.nan\n",
    "            \n",
    "    # create df for mabs and separate df for Antivirals\n",
    "    name_field = f'{x.lower()}_covid_therapeutic_name'\n",
    "    df1[name_field] = df1[name_field].astype(str).fillna(\"\")\n",
    "    df_mab = df1.loc[df1[name_field].str.contains(\"mab\")]\n",
    "    df_non_mab = df1.loc[~df1[name_field].str.contains(\"mab\")]\n",
    "    treatments = {\"MABs\":df_mab,\n",
    "                  \"Antivirals\":df_non_mab}\n",
    "\n",
    "    # Breakdown by treatment type (MABs/Avs)\n",
    "    for t in treatments:\n",
    "        df_t = treatments[t]\n",
    "        summary1 = pd.DataFrame(df_t[fields[x]].count()).rename(columns={0:\"count\"})\n",
    "        summary1 = redact_small_numbers(summary1, n=5, rate_column=None)\n",
    "        summary1[\"percent\"] = (100*(summary1[\"count\"]/summary1[\"count\"][f])).fillna(0).round(1)\n",
    "        summary1.index = summary1.index.str.replace(\"_date\",\"\").str.replace(\"_month\",\"\")\n",
    "        out_text = f\"\"\"Out of **{summary1[\"count\"][0]}** patients treated in *{x}* settings with *{t}*, **{summary1[\"count\"][1]} ({summary1[\"percent\"][1]}%)** had *{summary1.index[1].replace(\"_\",\" \")}* in SUS\"\"\"\n",
    "\n",
    "        summary1.to_csv((f\"../output/{x}_{t}.csv\"))\n",
    "        display(Markdown(f\"### {t}\"), Markdown(out_text), summary1)\n",
    "\n",
    "    display(Markdown(\"### Breakdown by region, age group and month (MABs only)\"))\n",
    "    # Breakdown by region, age group and month (MABs only, most inclusive hospital record field only)\n",
    "    for col in [\"region_covid_therapeutics\",\"age_group\", f]:\n",
    "        summary2 = pd.DataFrame(df_mab.groupby(col)\\\n",
    "                [fields[x][0:2]].count()).rename(columns={0:\"count\"})\n",
    "        summary2 = redact_small_numbers(summary2, n=5, rate_column=None)\n",
    "        summary2[\"percent\"] = (100*summary2[fields[x][1]]/summary2[f]).fillna(0).round(1)\n",
    "        summary2.columns = summary2.columns.str.replace(\"_date\",\"\").str.replace(\"_month\",\"\")\n",
    "\n",
    "        c_min = summary2[\"percent\"].min()\n",
    "        c_max = summary2[\"percent\"].max()\n",
    "        breakdown=col\n",
    "        if col==f:\n",
    "            breakdown = \"treatment_month\"\n",
    "        out_text = f\"\"\"The percent of MABs patients treated in *{x}* settings found in SUS varied by *{breakdown}* from **{c_min}%** to **{c_max}%**\"\"\"\n",
    "        summary2.to_csv((f\"../output/{x}_{t}_by_{breakdown}.csv\"))\n",
    "        display( Markdown(out_text), summary2)"
   ]
  }
 ],
 "metadata": {
  "jupytext": {
   "cell_metadata_filter": "all",
   "notebook_metadata_filter": "all,-language_info",
   "text_representation": {
    "extension": ".py",
    "format_name": "light",
    "format_version": "1.5",
    "jupytext_version": "1.3.3"
   }
  },
  "kernelspec": {
   "display_name": "Python 3",
   "language": "python",
   "name": "python3"
  },
  "language_info": {
   "codemirror_mode": {
    "name": "ipython",
    "version": 3
   },
   "file_extension": ".py",
   "mimetype": "text/x-python",
   "name": "python",
   "nbconvert_exporter": "python",
   "pygments_lexer": "ipython3",
   "version": "3.8.1"
  }
 },
 "nbformat": 4,
 "nbformat_minor": 4
}
