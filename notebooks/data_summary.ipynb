{
 "cells": [
  {
   "cell_type": "markdown",
   "metadata": {
    "lines_to_next_cell": 2
   },
   "source": [
    "# Quick analysis"
   ]
  },
  {
   "cell_type": "code",
   "execution_count": 1,
   "metadata": {
    "lines_to_next_cell": 2
   },
   "outputs": [],
   "source": [
    "## Import libraries\n",
    "\n",
    "%load_ext autoreload\n",
    "%autoreload 2\n",
    "\n",
    "import os\n",
    "import pandas as pd\n",
    "import numpy as np\n",
    "from datetime import date, datetime\n",
    "from IPython.display import display, Markdown\n",
    "from utilities import redact_small_numbers\n"
   ]
  },
  {
   "cell_type": "code",
   "execution_count": 2,
   "metadata": {},
   "outputs": [
    {
     "data": {
      "text/markdown": [
       "Latest admission date: 2022-04-25"
      ],
      "text/plain": [
       "<IPython.core.display.Markdown object>"
      ]
     },
     "metadata": {},
     "output_type": "display_data"
    },
    {
     "data": {
      "text/markdown": [
       "Therapeutics: ['paxlovid', 'molnupiravir', 'sotrovimab', nan, 'remdesivir', 'casirivimab and imdevimab']"
      ],
      "text/plain": [
       "<IPython.core.display.Markdown object>"
      ]
     },
     "metadata": {},
     "output_type": "display_data"
    }
   ],
   "source": [
    "# import data\n",
    "\n",
    "df = pd.read_feather(\"../output/input.feather\")\n",
    "#df = pd.read_csv(\"../output/input.csv\")\n",
    "\n",
    "# for binary fields, replace zeros with null so that `count` can\n",
    "binary_fields = ['elective_short_stay', 'elective_or_op']\n",
    "for f in binary_fields:\n",
    "    df[f] = df[f].astype('int64').replace(0,np.nan)\n",
    "\n",
    "maxdate = df[\"any_admission_date\"].max()\n",
    "display(Markdown(f\"Latest admission date: {maxdate}\"))\n",
    "display(Markdown(f\"Therapeutics: {df['outpatient_covid_therapeutic_name'].unique().tolist()}\"))"
   ]
  },
  {
   "cell_type": "code",
   "execution_count": 3,
   "metadata": {},
   "outputs": [
    {
     "data": {
      "text/markdown": [
       "## Outpatient"
      ],
      "text/plain": [
       "<IPython.core.display.Markdown object>"
      ]
     },
     "metadata": {},
     "output_type": "display_data"
    },
    {
     "data": {
      "text/markdown": [
       "### MABs"
      ],
      "text/plain": [
       "<IPython.core.display.Markdown object>"
      ]
     },
     "metadata": {},
     "output_type": "display_data"
    },
    {
     "data": {
      "text/markdown": [
       "Out of **278** patients treated in *Outpatient* settings with *MABs*, **140 (50.0%)** had *elective or op* in SUS"
      ],
      "text/plain": [
       "<IPython.core.display.Markdown object>"
      ]
     },
     "metadata": {},
     "output_type": "display_data"
    },
    {
     "data": {
      "text/html": [
       "<div>\n",
       "<style scoped>\n",
       "    .dataframe tbody tr th:only-of-type {\n",
       "        vertical-align: middle;\n",
       "    }\n",
       "\n",
       "    .dataframe tbody tr th {\n",
       "        vertical-align: top;\n",
       "    }\n",
       "\n",
       "    .dataframe thead th {\n",
       "        text-align: right;\n",
       "    }\n",
       "</style>\n",
       "<table border=\"1\" class=\"dataframe\">\n",
       "  <thead>\n",
       "    <tr style=\"text-align: right;\">\n",
       "      <th></th>\n",
       "      <th>count</th>\n",
       "      <th>percent</th>\n",
       "    </tr>\n",
       "  </thead>\n",
       "  <tbody>\n",
       "    <tr>\n",
       "      <th>outpatient_covid_therapeutic</th>\n",
       "      <td>278</td>\n",
       "      <td>100.0</td>\n",
       "    </tr>\n",
       "    <tr>\n",
       "      <th>elective_or_op</th>\n",
       "      <td>140</td>\n",
       "      <td>50.0</td>\n",
       "    </tr>\n",
       "    <tr>\n",
       "      <th>elective_short_stay</th>\n",
       "      <td>203</td>\n",
       "      <td>73.0</td>\n",
       "    </tr>\n",
       "    <tr>\n",
       "      <th>daycase_admission</th>\n",
       "      <td>148</td>\n",
       "      <td>53.0</td>\n",
       "    </tr>\n",
       "    <tr>\n",
       "      <th>elective_x892</th>\n",
       "      <td>29</td>\n",
       "      <td>10.0</td>\n",
       "    </tr>\n",
       "    <tr>\n",
       "      <th>elective_x292</th>\n",
       "      <td>26</td>\n",
       "      <td>9.0</td>\n",
       "    </tr>\n",
       "    <tr>\n",
       "      <th>hospital_attendance</th>\n",
       "      <td>37</td>\n",
       "      <td>13.0</td>\n",
       "    </tr>\n",
       "  </tbody>\n",
       "</table>\n",
       "</div>"
      ],
      "text/plain": [
       "                              count  percent\n",
       "outpatient_covid_therapeutic    278    100.0\n",
       "elective_or_op                  140     50.0\n",
       "elective_short_stay             203     73.0\n",
       "daycase_admission               148     53.0\n",
       "elective_x892                    29     10.0\n",
       "elective_x292                    26      9.0\n",
       "hospital_attendance              37     13.0"
      ]
     },
     "metadata": {},
     "output_type": "display_data"
    },
    {
     "data": {
      "text/markdown": [
       "### Antivirals"
      ],
      "text/plain": [
       "<IPython.core.display.Markdown object>"
      ]
     },
     "metadata": {},
     "output_type": "display_data"
    },
    {
     "data": {
      "text/markdown": [
       "Out of **523** patients treated in *Outpatient* settings with *Antivirals*, **268 (51.0%)** had *elective or op* in SUS"
      ],
      "text/plain": [
       "<IPython.core.display.Markdown object>"
      ]
     },
     "metadata": {},
     "output_type": "display_data"
    },
    {
     "data": {
      "text/html": [
       "<div>\n",
       "<style scoped>\n",
       "    .dataframe tbody tr th:only-of-type {\n",
       "        vertical-align: middle;\n",
       "    }\n",
       "\n",
       "    .dataframe tbody tr th {\n",
       "        vertical-align: top;\n",
       "    }\n",
       "\n",
       "    .dataframe thead th {\n",
       "        text-align: right;\n",
       "    }\n",
       "</style>\n",
       "<table border=\"1\" class=\"dataframe\">\n",
       "  <thead>\n",
       "    <tr style=\"text-align: right;\">\n",
       "      <th></th>\n",
       "      <th>count</th>\n",
       "      <th>percent</th>\n",
       "    </tr>\n",
       "  </thead>\n",
       "  <tbody>\n",
       "    <tr>\n",
       "      <th>outpatient_covid_therapeutic</th>\n",
       "      <td>523</td>\n",
       "      <td>100.0</td>\n",
       "    </tr>\n",
       "    <tr>\n",
       "      <th>elective_or_op</th>\n",
       "      <td>268</td>\n",
       "      <td>51.0</td>\n",
       "    </tr>\n",
       "    <tr>\n",
       "      <th>elective_short_stay</th>\n",
       "      <td>360</td>\n",
       "      <td>68.0</td>\n",
       "    </tr>\n",
       "    <tr>\n",
       "      <th>daycase_admission</th>\n",
       "      <td>256</td>\n",
       "      <td>48.0</td>\n",
       "    </tr>\n",
       "    <tr>\n",
       "      <th>elective_x892</th>\n",
       "      <td>49</td>\n",
       "      <td>9.0</td>\n",
       "    </tr>\n",
       "    <tr>\n",
       "      <th>elective_x292</th>\n",
       "      <td>49</td>\n",
       "      <td>9.0</td>\n",
       "    </tr>\n",
       "    <tr>\n",
       "      <th>hospital_attendance</th>\n",
       "      <td>47</td>\n",
       "      <td>8.0</td>\n",
       "    </tr>\n",
       "  </tbody>\n",
       "</table>\n",
       "</div>"
      ],
      "text/plain": [
       "                              count  percent\n",
       "outpatient_covid_therapeutic    523    100.0\n",
       "elective_or_op                  268     51.0\n",
       "elective_short_stay             360     68.0\n",
       "daycase_admission               256     48.0\n",
       "elective_x892                    49      9.0\n",
       "elective_x292                    49      9.0\n",
       "hospital_attendance              47      8.0"
      ]
     },
     "metadata": {},
     "output_type": "display_data"
    },
    {
     "data": {
      "text/markdown": [
       "### Breakdown by region and age group (MABs only)"
      ],
      "text/plain": [
       "<IPython.core.display.Markdown object>"
      ]
     },
     "metadata": {},
     "output_type": "display_data"
    },
    {
     "data": {
      "text/markdown": [
       "The percent of MABs patients treated in *Outpatient* settings found in SUS varied by *region_covid_therapeutics* from **27.0%** to **60.0%**"
      ],
      "text/plain": [
       "<IPython.core.display.Markdown object>"
      ]
     },
     "metadata": {},
     "output_type": "display_data"
    },
    {
     "data": {
      "text/html": [
       "<div>\n",
       "<style scoped>\n",
       "    .dataframe tbody tr th:only-of-type {\n",
       "        vertical-align: middle;\n",
       "    }\n",
       "\n",
       "    .dataframe tbody tr th {\n",
       "        vertical-align: top;\n",
       "    }\n",
       "\n",
       "    .dataframe thead th {\n",
       "        text-align: right;\n",
       "    }\n",
       "</style>\n",
       "<table border=\"1\" class=\"dataframe\">\n",
       "  <thead>\n",
       "    <tr style=\"text-align: right;\">\n",
       "      <th></th>\n",
       "      <th>outpatient_covid_therapeutic</th>\n",
       "      <th>elective_or_op</th>\n",
       "      <th>percent</th>\n",
       "    </tr>\n",
       "    <tr>\n",
       "      <th>region_covid_therapeutics</th>\n",
       "      <th></th>\n",
       "      <th></th>\n",
       "      <th></th>\n",
       "    </tr>\n",
       "  </thead>\n",
       "  <tbody>\n",
       "    <tr>\n",
       "      <th>East</th>\n",
       "      <td>27</td>\n",
       "      <td>14</td>\n",
       "      <td>51.0</td>\n",
       "    </tr>\n",
       "    <tr>\n",
       "      <th>East Midlands</th>\n",
       "      <td>24</td>\n",
       "      <td>11</td>\n",
       "      <td>45.0</td>\n",
       "    </tr>\n",
       "    <tr>\n",
       "      <th>London</th>\n",
       "      <td>48</td>\n",
       "      <td>28</td>\n",
       "      <td>58.0</td>\n",
       "    </tr>\n",
       "    <tr>\n",
       "      <th>North East</th>\n",
       "      <td>29</td>\n",
       "      <td>8</td>\n",
       "      <td>27.0</td>\n",
       "    </tr>\n",
       "    <tr>\n",
       "      <th>North West</th>\n",
       "      <td>28</td>\n",
       "      <td>16</td>\n",
       "      <td>57.0</td>\n",
       "    </tr>\n",
       "    <tr>\n",
       "      <th>South East</th>\n",
       "      <td>32</td>\n",
       "      <td>17</td>\n",
       "      <td>53.0</td>\n",
       "    </tr>\n",
       "    <tr>\n",
       "      <th>South West</th>\n",
       "      <td>24</td>\n",
       "      <td>12</td>\n",
       "      <td>50.0</td>\n",
       "    </tr>\n",
       "    <tr>\n",
       "      <th>West Midlands</th>\n",
       "      <td>41</td>\n",
       "      <td>25</td>\n",
       "      <td>60.0</td>\n",
       "    </tr>\n",
       "    <tr>\n",
       "      <th>Yorkshire and The Humber</th>\n",
       "      <td>25</td>\n",
       "      <td>9</td>\n",
       "      <td>36.0</td>\n",
       "    </tr>\n",
       "  </tbody>\n",
       "</table>\n",
       "</div>"
      ],
      "text/plain": [
       "                           outpatient_covid_therapeutic  elective_or_op  \\\n",
       "region_covid_therapeutics                                                 \n",
       "East                                                 27              14   \n",
       "East Midlands                                        24              11   \n",
       "London                                               48              28   \n",
       "North East                                           29               8   \n",
       "North West                                           28              16   \n",
       "South East                                           32              17   \n",
       "South West                                           24              12   \n",
       "West Midlands                                        41              25   \n",
       "Yorkshire and The Humber                             25               9   \n",
       "\n",
       "                           percent  \n",
       "region_covid_therapeutics           \n",
       "East                          51.0  \n",
       "East Midlands                 45.0  \n",
       "London                        58.0  \n",
       "North East                    27.0  \n",
       "North West                    57.0  \n",
       "South East                    53.0  \n",
       "South West                    50.0  \n",
       "West Midlands                 60.0  \n",
       "Yorkshire and The Humber      36.0  "
      ]
     },
     "metadata": {},
     "output_type": "display_data"
    },
    {
     "data": {
      "text/markdown": [
       "### Breakdown by region and age group (MABs only)"
      ],
      "text/plain": [
       "<IPython.core.display.Markdown object>"
      ]
     },
     "metadata": {},
     "output_type": "display_data"
    },
    {
     "data": {
      "text/markdown": [
       "The percent of MABs patients treated in *Outpatient* settings found in SUS varied by *age_group* from **40.0%** to **56.0%**"
      ],
      "text/plain": [
       "<IPython.core.display.Markdown object>"
      ]
     },
     "metadata": {},
     "output_type": "display_data"
    },
    {
     "data": {
      "text/html": [
       "<div>\n",
       "<style scoped>\n",
       "    .dataframe tbody tr th:only-of-type {\n",
       "        vertical-align: middle;\n",
       "    }\n",
       "\n",
       "    .dataframe tbody tr th {\n",
       "        vertical-align: top;\n",
       "    }\n",
       "\n",
       "    .dataframe thead th {\n",
       "        text-align: right;\n",
       "    }\n",
       "</style>\n",
       "<table border=\"1\" class=\"dataframe\">\n",
       "  <thead>\n",
       "    <tr style=\"text-align: right;\">\n",
       "      <th></th>\n",
       "      <th>outpatient_covid_therapeutic</th>\n",
       "      <th>elective_or_op</th>\n",
       "      <th>percent</th>\n",
       "    </tr>\n",
       "    <tr>\n",
       "      <th>age_group</th>\n",
       "      <th></th>\n",
       "      <th></th>\n",
       "      <th></th>\n",
       "    </tr>\n",
       "  </thead>\n",
       "  <tbody>\n",
       "    <tr>\n",
       "      <th>12-24</th>\n",
       "      <td>30</td>\n",
       "      <td>17</td>\n",
       "      <td>56.0</td>\n",
       "    </tr>\n",
       "    <tr>\n",
       "      <th>25-34</th>\n",
       "      <td>19</td>\n",
       "      <td>10</td>\n",
       "      <td>52.0</td>\n",
       "    </tr>\n",
       "    <tr>\n",
       "      <th>35-44</th>\n",
       "      <td>54</td>\n",
       "      <td>27</td>\n",
       "      <td>50.0</td>\n",
       "    </tr>\n",
       "    <tr>\n",
       "      <th>45-54</th>\n",
       "      <td>49</td>\n",
       "      <td>21</td>\n",
       "      <td>42.0</td>\n",
       "    </tr>\n",
       "    <tr>\n",
       "      <th>55-64</th>\n",
       "      <td>30</td>\n",
       "      <td>12</td>\n",
       "      <td>40.0</td>\n",
       "    </tr>\n",
       "    <tr>\n",
       "      <th>65-74</th>\n",
       "      <td>25</td>\n",
       "      <td>14</td>\n",
       "      <td>56.0</td>\n",
       "    </tr>\n",
       "    <tr>\n",
       "      <th>75+</th>\n",
       "      <td>36</td>\n",
       "      <td>20</td>\n",
       "      <td>55.0</td>\n",
       "    </tr>\n",
       "    <tr>\n",
       "      <th>missing</th>\n",
       "      <td>35</td>\n",
       "      <td>19</td>\n",
       "      <td>54.0</td>\n",
       "    </tr>\n",
       "  </tbody>\n",
       "</table>\n",
       "</div>"
      ],
      "text/plain": [
       "           outpatient_covid_therapeutic  elective_or_op  percent\n",
       "age_group                                                       \n",
       "12-24                                30              17     56.0\n",
       "25-34                                19              10     52.0\n",
       "35-44                                54              27     50.0\n",
       "45-54                                49              21     42.0\n",
       "55-64                                30              12     40.0\n",
       "65-74                                25              14     56.0\n",
       "75+                                  36              20     55.0\n",
       "missing                              35              19     54.0"
      ]
     },
     "metadata": {},
     "output_type": "display_data"
    },
    {
     "data": {
      "text/markdown": [
       "## Inpatient"
      ],
      "text/plain": [
       "<IPython.core.display.Markdown object>"
      ]
     },
     "metadata": {},
     "output_type": "display_data"
    },
    {
     "data": {
      "text/markdown": [
       "Note: for inpatients, recent spells may not yet have completed so some data may be missing"
      ],
      "text/plain": [
       "<IPython.core.display.Markdown object>"
      ]
     },
     "metadata": {},
     "output_type": "display_data"
    },
    {
     "data": {
      "text/markdown": [
       "### MABs"
      ],
      "text/plain": [
       "<IPython.core.display.Markdown object>"
      ]
     },
     "metadata": {},
     "output_type": "display_data"
    },
    {
     "data": {
      "text/markdown": [
       "Out of **282** patients treated in *Inpatient* settings with *MABs*, **101 (35.0%)** had *any admission* in SUS"
      ],
      "text/plain": [
       "<IPython.core.display.Markdown object>"
      ]
     },
     "metadata": {},
     "output_type": "display_data"
    },
    {
     "data": {
      "text/html": [
       "<div>\n",
       "<style scoped>\n",
       "    .dataframe tbody tr th:only-of-type {\n",
       "        vertical-align: middle;\n",
       "    }\n",
       "\n",
       "    .dataframe tbody tr th {\n",
       "        vertical-align: top;\n",
       "    }\n",
       "\n",
       "    .dataframe thead th {\n",
       "        text-align: right;\n",
       "    }\n",
       "</style>\n",
       "<table border=\"1\" class=\"dataframe\">\n",
       "  <thead>\n",
       "    <tr style=\"text-align: right;\">\n",
       "      <th></th>\n",
       "      <th>count</th>\n",
       "      <th>percent</th>\n",
       "    </tr>\n",
       "  </thead>\n",
       "  <tbody>\n",
       "    <tr>\n",
       "      <th>inpatient_covid_therapeutic</th>\n",
       "      <td>282</td>\n",
       "      <td>100.0</td>\n",
       "    </tr>\n",
       "    <tr>\n",
       "      <th>any_admission</th>\n",
       "      <td>101</td>\n",
       "      <td>35.0</td>\n",
       "    </tr>\n",
       "    <tr>\n",
       "      <th>any_admission_x892</th>\n",
       "      <td>65</td>\n",
       "      <td>23.0</td>\n",
       "    </tr>\n",
       "    <tr>\n",
       "      <th>any_admission_x292</th>\n",
       "      <td>79</td>\n",
       "      <td>28.0</td>\n",
       "    </tr>\n",
       "  </tbody>\n",
       "</table>\n",
       "</div>"
      ],
      "text/plain": [
       "                             count  percent\n",
       "inpatient_covid_therapeutic    282    100.0\n",
       "any_admission                  101     35.0\n",
       "any_admission_x892              65     23.0\n",
       "any_admission_x292              79     28.0"
      ]
     },
     "metadata": {},
     "output_type": "display_data"
    },
    {
     "data": {
      "text/markdown": [
       "### Antivirals"
      ],
      "text/plain": [
       "<IPython.core.display.Markdown object>"
      ]
     },
     "metadata": {},
     "output_type": "display_data"
    },
    {
     "data": {
      "text/markdown": [
       "Out of **519** patients treated in *Inpatient* settings with *Antivirals*, **186 (35.0%)** had *any admission* in SUS"
      ],
      "text/plain": [
       "<IPython.core.display.Markdown object>"
      ]
     },
     "metadata": {},
     "output_type": "display_data"
    },
    {
     "data": {
      "text/html": [
       "<div>\n",
       "<style scoped>\n",
       "    .dataframe tbody tr th:only-of-type {\n",
       "        vertical-align: middle;\n",
       "    }\n",
       "\n",
       "    .dataframe tbody tr th {\n",
       "        vertical-align: top;\n",
       "    }\n",
       "\n",
       "    .dataframe thead th {\n",
       "        text-align: right;\n",
       "    }\n",
       "</style>\n",
       "<table border=\"1\" class=\"dataframe\">\n",
       "  <thead>\n",
       "    <tr style=\"text-align: right;\">\n",
       "      <th></th>\n",
       "      <th>count</th>\n",
       "      <th>percent</th>\n",
       "    </tr>\n",
       "  </thead>\n",
       "  <tbody>\n",
       "    <tr>\n",
       "      <th>inpatient_covid_therapeutic</th>\n",
       "      <td>519</td>\n",
       "      <td>100.0</td>\n",
       "    </tr>\n",
       "    <tr>\n",
       "      <th>any_admission</th>\n",
       "      <td>186</td>\n",
       "      <td>35.0</td>\n",
       "    </tr>\n",
       "    <tr>\n",
       "      <th>any_admission_x892</th>\n",
       "      <td>136</td>\n",
       "      <td>26.0</td>\n",
       "    </tr>\n",
       "    <tr>\n",
       "      <th>any_admission_x292</th>\n",
       "      <td>123</td>\n",
       "      <td>23.0</td>\n",
       "    </tr>\n",
       "  </tbody>\n",
       "</table>\n",
       "</div>"
      ],
      "text/plain": [
       "                             count  percent\n",
       "inpatient_covid_therapeutic    519    100.0\n",
       "any_admission                  186     35.0\n",
       "any_admission_x892             136     26.0\n",
       "any_admission_x292             123     23.0"
      ]
     },
     "metadata": {},
     "output_type": "display_data"
    },
    {
     "data": {
      "text/markdown": [
       "### Breakdown by region and age group (MABs only)"
      ],
      "text/plain": [
       "<IPython.core.display.Markdown object>"
      ]
     },
     "metadata": {},
     "output_type": "display_data"
    },
    {
     "data": {
      "text/markdown": [
       "The percent of MABs patients treated in *Inpatient* settings found in SUS varied by *region_covid_therapeutics* from **32.0%** to **42.0%**"
      ],
      "text/plain": [
       "<IPython.core.display.Markdown object>"
      ]
     },
     "metadata": {},
     "output_type": "display_data"
    },
    {
     "data": {
      "text/html": [
       "<div>\n",
       "<style scoped>\n",
       "    .dataframe tbody tr th:only-of-type {\n",
       "        vertical-align: middle;\n",
       "    }\n",
       "\n",
       "    .dataframe tbody tr th {\n",
       "        vertical-align: top;\n",
       "    }\n",
       "\n",
       "    .dataframe thead th {\n",
       "        text-align: right;\n",
       "    }\n",
       "</style>\n",
       "<table border=\"1\" class=\"dataframe\">\n",
       "  <thead>\n",
       "    <tr style=\"text-align: right;\">\n",
       "      <th></th>\n",
       "      <th>inpatient_covid_therapeutic</th>\n",
       "      <th>any_admission</th>\n",
       "      <th>percent</th>\n",
       "    </tr>\n",
       "    <tr>\n",
       "      <th>region_covid_therapeutics</th>\n",
       "      <th></th>\n",
       "      <th></th>\n",
       "      <th></th>\n",
       "    </tr>\n",
       "  </thead>\n",
       "  <tbody>\n",
       "    <tr>\n",
       "      <th>East</th>\n",
       "      <td>28</td>\n",
       "      <td>NaN</td>\n",
       "      <td>NaN</td>\n",
       "    </tr>\n",
       "    <tr>\n",
       "      <th>East Midlands</th>\n",
       "      <td>28</td>\n",
       "      <td>10.0</td>\n",
       "      <td>35.0</td>\n",
       "    </tr>\n",
       "    <tr>\n",
       "      <th>London</th>\n",
       "      <td>54</td>\n",
       "      <td>21.0</td>\n",
       "      <td>38.0</td>\n",
       "    </tr>\n",
       "    <tr>\n",
       "      <th>North East</th>\n",
       "      <td>31</td>\n",
       "      <td>12.0</td>\n",
       "      <td>38.0</td>\n",
       "    </tr>\n",
       "    <tr>\n",
       "      <th>North West</th>\n",
       "      <td>30</td>\n",
       "      <td>12.0</td>\n",
       "      <td>40.0</td>\n",
       "    </tr>\n",
       "    <tr>\n",
       "      <th>South East</th>\n",
       "      <td>38</td>\n",
       "      <td>13.0</td>\n",
       "      <td>34.0</td>\n",
       "    </tr>\n",
       "    <tr>\n",
       "      <th>South West</th>\n",
       "      <td>25</td>\n",
       "      <td>8.0</td>\n",
       "      <td>32.0</td>\n",
       "    </tr>\n",
       "    <tr>\n",
       "      <th>West Midlands</th>\n",
       "      <td>27</td>\n",
       "      <td>11.0</td>\n",
       "      <td>40.0</td>\n",
       "    </tr>\n",
       "    <tr>\n",
       "      <th>Yorkshire and The Humber</th>\n",
       "      <td>21</td>\n",
       "      <td>9.0</td>\n",
       "      <td>42.0</td>\n",
       "    </tr>\n",
       "  </tbody>\n",
       "</table>\n",
       "</div>"
      ],
      "text/plain": [
       "                           inpatient_covid_therapeutic  any_admission  percent\n",
       "region_covid_therapeutics                                                     \n",
       "East                                                28            NaN      NaN\n",
       "East Midlands                                       28           10.0     35.0\n",
       "London                                              54           21.0     38.0\n",
       "North East                                          31           12.0     38.0\n",
       "North West                                          30           12.0     40.0\n",
       "South East                                          38           13.0     34.0\n",
       "South West                                          25            8.0     32.0\n",
       "West Midlands                                       27           11.0     40.0\n",
       "Yorkshire and The Humber                            21            9.0     42.0"
      ]
     },
     "metadata": {},
     "output_type": "display_data"
    },
    {
     "data": {
      "text/markdown": [
       "### Breakdown by region and age group (MABs only)"
      ],
      "text/plain": [
       "<IPython.core.display.Markdown object>"
      ]
     },
     "metadata": {},
     "output_type": "display_data"
    },
    {
     "data": {
      "text/markdown": [
       "The percent of MABs patients treated in *Inpatient* settings found in SUS varied by *age_group* from **28.0%** to **55.0%**"
      ],
      "text/plain": [
       "<IPython.core.display.Markdown object>"
      ]
     },
     "metadata": {},
     "output_type": "display_data"
    },
    {
     "data": {
      "text/html": [
       "<div>\n",
       "<style scoped>\n",
       "    .dataframe tbody tr th:only-of-type {\n",
       "        vertical-align: middle;\n",
       "    }\n",
       "\n",
       "    .dataframe tbody tr th {\n",
       "        vertical-align: top;\n",
       "    }\n",
       "\n",
       "    .dataframe thead th {\n",
       "        text-align: right;\n",
       "    }\n",
       "</style>\n",
       "<table border=\"1\" class=\"dataframe\">\n",
       "  <thead>\n",
       "    <tr style=\"text-align: right;\">\n",
       "      <th></th>\n",
       "      <th>inpatient_covid_therapeutic</th>\n",
       "      <th>any_admission</th>\n",
       "      <th>percent</th>\n",
       "    </tr>\n",
       "    <tr>\n",
       "      <th>age_group</th>\n",
       "      <th></th>\n",
       "      <th></th>\n",
       "      <th></th>\n",
       "    </tr>\n",
       "  </thead>\n",
       "  <tbody>\n",
       "    <tr>\n",
       "      <th>12-24</th>\n",
       "      <td>33</td>\n",
       "      <td>13.0</td>\n",
       "      <td>39.0</td>\n",
       "    </tr>\n",
       "    <tr>\n",
       "      <th>25-34</th>\n",
       "      <td>21</td>\n",
       "      <td>NaN</td>\n",
       "      <td>NaN</td>\n",
       "    </tr>\n",
       "    <tr>\n",
       "      <th>35-44</th>\n",
       "      <td>54</td>\n",
       "      <td>17.0</td>\n",
       "      <td>31.0</td>\n",
       "    </tr>\n",
       "    <tr>\n",
       "      <th>45-54</th>\n",
       "      <td>45</td>\n",
       "      <td>13.0</td>\n",
       "      <td>28.0</td>\n",
       "    </tr>\n",
       "    <tr>\n",
       "      <th>55-64</th>\n",
       "      <td>34</td>\n",
       "      <td>11.0</td>\n",
       "      <td>32.0</td>\n",
       "    </tr>\n",
       "    <tr>\n",
       "      <th>65-74</th>\n",
       "      <td>35</td>\n",
       "      <td>14.0</td>\n",
       "      <td>40.0</td>\n",
       "    </tr>\n",
       "    <tr>\n",
       "      <th>75+</th>\n",
       "      <td>31</td>\n",
       "      <td>12.0</td>\n",
       "      <td>38.0</td>\n",
       "    </tr>\n",
       "    <tr>\n",
       "      <th>missing</th>\n",
       "      <td>29</td>\n",
       "      <td>16.0</td>\n",
       "      <td>55.0</td>\n",
       "    </tr>\n",
       "  </tbody>\n",
       "</table>\n",
       "</div>"
      ],
      "text/plain": [
       "           inpatient_covid_therapeutic  any_admission  percent\n",
       "age_group                                                     \n",
       "12-24                               33           13.0     39.0\n",
       "25-34                               21            NaN      NaN\n",
       "35-44                               54           17.0     31.0\n",
       "45-54                               45           13.0     28.0\n",
       "55-64                               34           11.0     32.0\n",
       "65-74                               35           14.0     40.0\n",
       "75+                                 31           12.0     38.0\n",
       "missing                             29           16.0     55.0"
      ]
     },
     "metadata": {},
     "output_type": "display_data"
    }
   ],
   "source": [
    "\n",
    "fields = {\n",
    "'Outpatient':\n",
    "    ['outpatient_covid_therapeutic_date',\n",
    "     'elective_or_op',\n",
    "     'elective_short_stay', \n",
    "     'daycase_admission_date',\n",
    "     'elective_x892_date', \n",
    "     'elective_x292_date', \n",
    "     'hospital_attendance_date'],\n",
    "'Inpatient':      \n",
    "    ['inpatient_covid_therapeutic_date',\n",
    "     'any_admission_date', \n",
    "     'any_admission_x892_date',\n",
    "     'any_admission_x292_date']\n",
    "}\n",
    "\n",
    "for x in fields:\n",
    "    f = fields[x][0]\n",
    "    display(Markdown(f\"## {x}\"))\n",
    "\n",
    "    # filter to treatment dates within available SUS data range\n",
    "    df1 = df.copy().loc[(df[f] <= maxdate)]\n",
    "\n",
    "    if x==\"Inpatient\": # don't count admissions if discharge date was after treatment date\n",
    "        display(Markdown(f\"Note: for inpatients, recent spells may not yet have completed so some data may be missing\"))\n",
    "        for c in fields[x][1:]: # for each admission type\n",
    "            # compare discharge date with treatment date and remove admission date if not in window\n",
    "            df1.loc[df1[f] > df1[c.replace(\"admission\", \"discharge\")], c] = np.nan\n",
    "            \n",
    "    # create df for mabs and separate df for Antivirals\n",
    "    name_field = f'{x.lower()}_covid_therapeutic_name'\n",
    "    df1[name_field] = df1[name_field].astype(str).fillna(\"\")\n",
    "    df_mab = df1.loc[df1[name_field].str.contains(\"mab\")]\n",
    "    df_non_mab = df1.loc[~df1[name_field].str.contains(\"mab\")]\n",
    "    treatments = {\"MABs\":df_mab,\n",
    "                  \"Antivirals\":df_non_mab}\n",
    "\n",
    "    # Breakdown by treatment type (MABs/Avs)\n",
    "    for t in treatments:\n",
    "        df_t = treatments[t]\n",
    "        summary1 = pd.DataFrame(df_t[fields[x]].count()).rename(columns={0:\"count\"})\n",
    "        summary1[\"percent\"] = (100*(summary1[\"count\"]/summary1[\"count\"][f])).fillna(0).round(2).astype(int)\n",
    "        summary1.index = summary1.index.str.replace(\"_date\",\"\")\n",
    "        summary1 = redact_small_numbers(summary1, n=5, rate_column=\"percent\")\n",
    "        out_text = f\"\"\"Out of **{summary1[\"count\"][0]}** patients treated in *{x}* settings with *{t}*, **{summary1[\"count\"][1]} ({summary1[\"percent\"][1]}%)** had *{summary1.index[1].replace(\"_\",\" \")}* in SUS\"\"\"\n",
    "\n",
    "        display(Markdown(f\"### {t}\"), Markdown(out_text), summary1)\n",
    "\n",
    "\n",
    "    # Breakdown by region and age group (MABs only, most inclusive hospital record field only)\n",
    "    for col in [\"region_covid_therapeutics\",\"age_group\"]:\n",
    "        summary2 = pd.DataFrame(df_mab.groupby(col)\\\n",
    "                [fields[x][0:2]].count()).rename(columns={0:\"count\"})\n",
    "        summary2[\"percent\"] = (100*summary2[fields[x][1]]/summary2[f]).fillna(0).round(2).astype(int)\n",
    "        summary2.columns = summary2.columns.str.replace(\"_date\",\"\")\n",
    "        summary2 = redact_small_numbers(summary2, n=5, rate_column=\"percent\")\n",
    "\n",
    "        c_min = summary2[\"percent\"].min()\n",
    "        c_max = summary2[\"percent\"].max()\n",
    "        out_text = f\"\"\"The percent of MABs patients treated in *{x}* settings found in SUS varied by *{col}* from **{c_min}%** to **{c_max}%**\"\"\"\n",
    "        display(Markdown(\"### Breakdown by region and age group (MABs only)\"), Markdown(out_text), summary2)"
   ]
  }
 ],
 "metadata": {
  "jupytext": {
   "cell_metadata_filter": "all",
   "notebook_metadata_filter": "all,-language_info",
   "text_representation": {
    "extension": ".py",
    "format_name": "light",
    "format_version": "1.5",
    "jupytext_version": "1.3.3"
   }
  },
  "kernelspec": {
   "display_name": "Python 3",
   "language": "python",
   "name": "python3"
  },
  "language_info": {
   "codemirror_mode": {
    "name": "ipython",
    "version": 3
   },
   "file_extension": ".py",
   "mimetype": "text/x-python",
   "name": "python",
   "nbconvert_exporter": "python",
   "pygments_lexer": "ipython3",
   "version": "3.8.1"
  }
 },
 "nbformat": 4,
 "nbformat_minor": 4
}
